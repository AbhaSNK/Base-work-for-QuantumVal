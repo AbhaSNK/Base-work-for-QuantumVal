{
 "cells": [
  {
   "cell_type": "code",
   "execution_count": 1,
   "metadata": {},
   "outputs": [],
   "source": [
    "from qiskit.algorithms.optimizers import COBYLA,CG\n",
    "from qiskit.algorithms import NumPyMinimumEigensolver, VQE,QAOA\n",
    "from qiskit.opflow import PauliExpectation, CVaRExpectation\n",
    "from qiskit_optimization import QuadraticProgram\n",
    "from qiskit_optimization.converters import LinearEqualityToPenalty\n",
    "from qiskit_optimization.algorithms import MinimumEigenOptimizer\n",
    "from qiskit_optimization.translators import from_docplex_mp\n",
    "from qiskit import execute, Aer\n",
    "from qiskit.utils import algorithm_globals\n",
    "\n",
    "import numpy as np\n",
    "import matplotlib.pyplot as plt\n",
    "from docplex.mp.model import Model"
   ]
  },
  {
   "cell_type": "code",
   "execution_count": 2,
   "metadata": {},
   "outputs": [],
   "source": [
    "# !pip install --upgrade qiskit"
   ]
  },
  {
   "cell_type": "code",
   "execution_count": 3,
   "metadata": {},
   "outputs": [],
   "source": [
    "# !pip install --upgrade qiskit-optimization"
   ]
  },
  {
   "cell_type": "code",
   "execution_count": 4,
   "metadata": {},
   "outputs": [],
   "source": [
    "import qiskit_optimization"
   ]
  },
  {
   "cell_type": "code",
   "execution_count": 5,
   "metadata": {},
   "outputs": [
    {
     "data": {
      "text/plain": [
       "'0.4.0'"
      ]
     },
     "execution_count": 5,
     "metadata": {},
     "output_type": "execute_result"
    }
   ],
   "source": [
    "qiskit_optimization.__version__"
   ]
  },
  {
   "cell_type": "code",
   "execution_count": 6,
   "metadata": {},
   "outputs": [
    {
     "data": {
      "text/plain": [
       "{'qiskit-terra': '0.21.0', 'qiskit-aer': '0.10.4', 'qiskit-ignis': '0.7.0', 'qiskit-ibmq-provider': '0.19.2', 'qiskit': '0.37.0', 'qiskit-nature': None, 'qiskit-finance': '0.3.3', 'qiskit-optimization': '0.4.0', 'qiskit-machine-learning': '0.4.0'}"
      ]
     },
     "execution_count": 6,
     "metadata": {},
     "output_type": "execute_result"
    }
   ],
   "source": [
    "import qiskit\n",
    "qiskit.__qiskit_version__"
   ]
  },
  {
   "cell_type": "markdown",
   "metadata": {},
   "source": [
    "## Reading the data extracted from Yahoo finance for 10 assets ##"
   ]
  },
  {
   "cell_type": "code",
   "execution_count": 7,
   "metadata": {},
   "outputs": [],
   "source": [
    "import pandas as pd"
   ]
  },
  {
   "cell_type": "code",
   "execution_count": 8,
   "metadata": {},
   "outputs": [],
   "source": [
    "yahoo_finance_data = pd.read_excel('yahoo_finance_data.xlsx')"
   ]
  },
  {
   "cell_type": "code",
   "execution_count": 9,
   "metadata": {},
   "outputs": [
    {
     "data": {
      "text/html": [
       "<div>\n",
       "<style scoped>\n",
       "    .dataframe tbody tr th:only-of-type {\n",
       "        vertical-align: middle;\n",
       "    }\n",
       "\n",
       "    .dataframe tbody tr th {\n",
       "        vertical-align: top;\n",
       "    }\n",
       "\n",
       "    .dataframe thead th {\n",
       "        text-align: right;\n",
       "    }\n",
       "</style>\n",
       "<table border=\"1\" class=\"dataframe\">\n",
       "  <thead>\n",
       "    <tr style=\"text-align: right;\">\n",
       "      <th></th>\n",
       "      <th>Date</th>\n",
       "      <th>Price</th>\n",
       "      <th>Returns</th>\n",
       "      <th>ONGC</th>\n",
       "      <th>TATASTEEL</th>\n",
       "      <th>HINDALCO</th>\n",
       "      <th>ICICI</th>\n",
       "      <th>BRITANNIA</th>\n",
       "      <th>ULTRATECH</th>\n",
       "      <th>WIPRO</th>\n",
       "      <th>APOLO</th>\n",
       "      <th>JUBLFOODS</th>\n",
       "    </tr>\n",
       "  </thead>\n",
       "  <tbody>\n",
       "    <tr>\n",
       "      <th>0</th>\n",
       "      <td>2022-05-18</td>\n",
       "      <td>7517.057617</td>\n",
       "      <td>-0.021410</td>\n",
       "      <td>-0.019608</td>\n",
       "      <td>-0.049227</td>\n",
       "      <td>-0.043797</td>\n",
       "      <td>-0.024104</td>\n",
       "      <td>-0.018354</td>\n",
       "      <td>-0.025851</td>\n",
       "      <td>-0.062545</td>\n",
       "      <td>-0.027630</td>\n",
       "      <td>-0.016838</td>\n",
       "    </tr>\n",
       "    <tr>\n",
       "      <th>1</th>\n",
       "      <td>2022-05-19</td>\n",
       "      <td>7356.117188</td>\n",
       "      <td>0.024586</td>\n",
       "      <td>0.011875</td>\n",
       "      <td>0.043176</td>\n",
       "      <td>0.029017</td>\n",
       "      <td>0.027886</td>\n",
       "      <td>0.035474</td>\n",
       "      <td>0.009230</td>\n",
       "      <td>0.018730</td>\n",
       "      <td>0.009967</td>\n",
       "      <td>0.012144</td>\n",
       "    </tr>\n",
       "    <tr>\n",
       "      <th>2</th>\n",
       "      <td>2022-05-20</td>\n",
       "      <td>7536.977051</td>\n",
       "      <td>0.040974</td>\n",
       "      <td>-0.042001</td>\n",
       "      <td>-0.126132</td>\n",
       "      <td>-0.037171</td>\n",
       "      <td>0.002114</td>\n",
       "      <td>0.010666</td>\n",
       "      <td>-0.034649</td>\n",
       "      <td>0.013925</td>\n",
       "      <td>0.013345</td>\n",
       "      <td>-0.004410</td>\n",
       "    </tr>\n",
       "    <tr>\n",
       "      <th>3</th>\n",
       "      <td>2022-05-23</td>\n",
       "      <td>7845.793945</td>\n",
       "      <td>-0.012004</td>\n",
       "      <td>-0.028691</td>\n",
       "      <td>-0.016228</td>\n",
       "      <td>-0.029892</td>\n",
       "      <td>-0.004078</td>\n",
       "      <td>-0.004760</td>\n",
       "      <td>-0.008155</td>\n",
       "      <td>-0.012983</td>\n",
       "      <td>-0.022949</td>\n",
       "      <td>-0.014936</td>\n",
       "    </tr>\n",
       "    <tr>\n",
       "      <th>4</th>\n",
       "      <td>2022-05-24</td>\n",
       "      <td>7751.613770</td>\n",
       "      <td>-0.001974</td>\n",
       "      <td>0.012944</td>\n",
       "      <td>-0.007204</td>\n",
       "      <td>-0.009855</td>\n",
       "      <td>0.007343</td>\n",
       "      <td>0.013269</td>\n",
       "      <td>-0.012926</td>\n",
       "      <td>-0.032830</td>\n",
       "      <td>-0.029560</td>\n",
       "      <td>-0.028652</td>\n",
       "    </tr>\n",
       "    <tr>\n",
       "      <th>5</th>\n",
       "      <td>2022-05-25</td>\n",
       "      <td>7736.314453</td>\n",
       "      <td>0.002279</td>\n",
       "      <td>-0.004587</td>\n",
       "      <td>0.052948</td>\n",
       "      <td>0.027718</td>\n",
       "      <td>0.021238</td>\n",
       "      <td>0.012640</td>\n",
       "      <td>0.014166</td>\n",
       "      <td>0.019108</td>\n",
       "      <td>0.039299</td>\n",
       "      <td>0.048229</td>\n",
       "    </tr>\n",
       "    <tr>\n",
       "      <th>6</th>\n",
       "      <td>2022-05-26</td>\n",
       "      <td>7753.948242</td>\n",
       "      <td>0.017675</td>\n",
       "      <td>-0.053324</td>\n",
       "      <td>-0.008080</td>\n",
       "      <td>0.003187</td>\n",
       "      <td>0.015511</td>\n",
       "      <td>-0.000941</td>\n",
       "      <td>0.012555</td>\n",
       "      <td>0.029999</td>\n",
       "      <td>0.054316</td>\n",
       "      <td>0.061415</td>\n",
       "    </tr>\n",
       "    <tr>\n",
       "      <th>7</th>\n",
       "      <td>2022-05-27</td>\n",
       "      <td>7890.996094</td>\n",
       "      <td>0.008932</td>\n",
       "      <td>0.001738</td>\n",
       "      <td>0.003785</td>\n",
       "      <td>0.018575</td>\n",
       "      <td>0.011760</td>\n",
       "      <td>0.005242</td>\n",
       "      <td>0.026000</td>\n",
       "      <td>0.019916</td>\n",
       "      <td>0.007820</td>\n",
       "      <td>0.096952</td>\n",
       "    </tr>\n",
       "    <tr>\n",
       "      <th>8</th>\n",
       "      <td>2022-05-30</td>\n",
       "      <td>7961.481934</td>\n",
       "      <td>-0.005933</td>\n",
       "      <td>0.049983</td>\n",
       "      <td>0.007828</td>\n",
       "      <td>0.013917</td>\n",
       "      <td>0.005812</td>\n",
       "      <td>0.020007</td>\n",
       "      <td>-0.003285</td>\n",
       "      <td>0.003780</td>\n",
       "      <td>0.022444</td>\n",
       "      <td>-0.028050</td>\n",
       "    </tr>\n",
       "    <tr>\n",
       "      <th>9</th>\n",
       "      <td>2022-05-31</td>\n",
       "      <td>7914.243164</td>\n",
       "      <td>-0.003383</td>\n",
       "      <td>-0.009917</td>\n",
       "      <td>0.007484</td>\n",
       "      <td>-0.028162</td>\n",
       "      <td>-0.000266</td>\n",
       "      <td>-0.026454</td>\n",
       "      <td>-0.017583</td>\n",
       "      <td>-0.015270</td>\n",
       "      <td>-0.035257</td>\n",
       "      <td>0.009166</td>\n",
       "    </tr>\n",
       "    <tr>\n",
       "      <th>10</th>\n",
       "      <td>2022-06-01</td>\n",
       "      <td>7887.469238</td>\n",
       "      <td>-0.001763</td>\n",
       "      <td>0.018030</td>\n",
       "      <td>0.016924</td>\n",
       "      <td>-0.001826</td>\n",
       "      <td>-0.003853</td>\n",
       "      <td>0.007251</td>\n",
       "      <td>0.005389</td>\n",
       "      <td>0.007223</td>\n",
       "      <td>-0.050469</td>\n",
       "      <td>-0.006565</td>\n",
       "    </tr>\n",
       "    <tr>\n",
       "      <th>11</th>\n",
       "      <td>2022-06-02</td>\n",
       "      <td>7873.560547</td>\n",
       "      <td>-0.027803</td>\n",
       "      <td>-0.005576</td>\n",
       "      <td>-0.013176</td>\n",
       "      <td>-0.007685</td>\n",
       "      <td>-0.007269</td>\n",
       "      <td>-0.013153</td>\n",
       "      <td>-0.054762</td>\n",
       "      <td>0.002847</td>\n",
       "      <td>-0.015486</td>\n",
       "      <td>-0.016203</td>\n",
       "    </tr>\n",
       "    <tr>\n",
       "      <th>12</th>\n",
       "      <td>2022-06-03</td>\n",
       "      <td>7654.651855</td>\n",
       "      <td>0.000714</td>\n",
       "      <td>0.015501</td>\n",
       "      <td>0.010119</td>\n",
       "      <td>0.005900</td>\n",
       "      <td>0.003292</td>\n",
       "      <td>-0.010779</td>\n",
       "      <td>-0.017169</td>\n",
       "      <td>-0.004837</td>\n",
       "      <td>0.012511</td>\n",
       "      <td>-0.022727</td>\n",
       "    </tr>\n",
       "    <tr>\n",
       "      <th>13</th>\n",
       "      <td>2022-06-06</td>\n",
       "      <td>7660.115723</td>\n",
       "      <td>0.012820</td>\n",
       "      <td>0.051315</td>\n",
       "      <td>-0.008905</td>\n",
       "      <td>-0.012098</td>\n",
       "      <td>-0.015400</td>\n",
       "      <td>-0.031071</td>\n",
       "      <td>-0.004685</td>\n",
       "      <td>-0.011729</td>\n",
       "      <td>-0.006715</td>\n",
       "      <td>-0.016006</td>\n",
       "    </tr>\n",
       "    <tr>\n",
       "      <th>14</th>\n",
       "      <td>2022-06-07</td>\n",
       "      <td>7758.319336</td>\n",
       "      <td>0.010635</td>\n",
       "      <td>0.009577</td>\n",
       "      <td>0.017080</td>\n",
       "      <td>-0.001732</td>\n",
       "      <td>-0.007821</td>\n",
       "      <td>-0.006487</td>\n",
       "      <td>-0.004203</td>\n",
       "      <td>0.005880</td>\n",
       "      <td>0.007453</td>\n",
       "      <td>-0.011865</td>\n",
       "    </tr>\n",
       "    <tr>\n",
       "      <th>15</th>\n",
       "      <td>2022-06-08</td>\n",
       "      <td>7840.826660</td>\n",
       "      <td>0.004739</td>\n",
       "      <td>0.013158</td>\n",
       "      <td>-0.038555</td>\n",
       "      <td>-0.009294</td>\n",
       "      <td>0.004455</td>\n",
       "      <td>-0.004239</td>\n",
       "      <td>-0.009030</td>\n",
       "      <td>0.009885</td>\n",
       "      <td>0.009309</td>\n",
       "      <td>0.016462</td>\n",
       "    </tr>\n",
       "    <tr>\n",
       "      <th>16</th>\n",
       "      <td>2022-06-09</td>\n",
       "      <td>7877.981934</td>\n",
       "      <td>0.000662</td>\n",
       "      <td>-0.005436</td>\n",
       "      <td>-0.020242</td>\n",
       "      <td>-0.035022</td>\n",
       "      <td>-0.017400</td>\n",
       "      <td>0.004063</td>\n",
       "      <td>0.005317</td>\n",
       "      <td>-0.029681</td>\n",
       "      <td>0.008297</td>\n",
       "      <td>-0.000286</td>\n",
       "    </tr>\n",
       "    <tr>\n",
       "      <th>17</th>\n",
       "      <td>2022-06-10</td>\n",
       "      <td>7883.197266</td>\n",
       "      <td>-0.004222</td>\n",
       "      <td>-0.030975</td>\n",
       "      <td>-0.031015</td>\n",
       "      <td>-0.050032</td>\n",
       "      <td>-0.044444</td>\n",
       "      <td>-0.000550</td>\n",
       "      <td>-0.028107</td>\n",
       "      <td>-0.032216</td>\n",
       "      <td>-0.013133</td>\n",
       "      <td>-0.012960</td>\n",
       "    </tr>\n",
       "    <tr>\n",
       "      <th>18</th>\n",
       "      <td>2022-06-13</td>\n",
       "      <td>7849.916504</td>\n",
       "      <td>-0.011384</td>\n",
       "      <td>-0.022563</td>\n",
       "      <td>0.004234</td>\n",
       "      <td>-0.022241</td>\n",
       "      <td>-0.003634</td>\n",
       "      <td>0.007100</td>\n",
       "      <td>0.013527</td>\n",
       "      <td>-0.000448</td>\n",
       "      <td>0.014869</td>\n",
       "      <td>-0.001545</td>\n",
       "    </tr>\n",
       "    <tr>\n",
       "      <th>19</th>\n",
       "      <td>2022-06-14</td>\n",
       "      <td>7760.554688</td>\n",
       "      <td>0.005351</td>\n",
       "      <td>-0.029176</td>\n",
       "      <td>0.015236</td>\n",
       "      <td>-0.002233</td>\n",
       "      <td>0.002553</td>\n",
       "      <td>0.000754</td>\n",
       "      <td>0.004706</td>\n",
       "      <td>-0.013007</td>\n",
       "      <td>0.004452</td>\n",
       "      <td>0.013634</td>\n",
       "    </tr>\n",
       "  </tbody>\n",
       "</table>\n",
       "</div>"
      ],
      "text/plain": [
       "         Date        Price   Returns      ONGC  TATASTEEL  HINDALCO     ICICI  \\\n",
       "0  2022-05-18  7517.057617 -0.021410 -0.019608  -0.049227 -0.043797 -0.024104   \n",
       "1  2022-05-19  7356.117188  0.024586  0.011875   0.043176  0.029017  0.027886   \n",
       "2  2022-05-20  7536.977051  0.040974 -0.042001  -0.126132 -0.037171  0.002114   \n",
       "3  2022-05-23  7845.793945 -0.012004 -0.028691  -0.016228 -0.029892 -0.004078   \n",
       "4  2022-05-24  7751.613770 -0.001974  0.012944  -0.007204 -0.009855  0.007343   \n",
       "5  2022-05-25  7736.314453  0.002279 -0.004587   0.052948  0.027718  0.021238   \n",
       "6  2022-05-26  7753.948242  0.017675 -0.053324  -0.008080  0.003187  0.015511   \n",
       "7  2022-05-27  7890.996094  0.008932  0.001738   0.003785  0.018575  0.011760   \n",
       "8  2022-05-30  7961.481934 -0.005933  0.049983   0.007828  0.013917  0.005812   \n",
       "9  2022-05-31  7914.243164 -0.003383 -0.009917   0.007484 -0.028162 -0.000266   \n",
       "10 2022-06-01  7887.469238 -0.001763  0.018030   0.016924 -0.001826 -0.003853   \n",
       "11 2022-06-02  7873.560547 -0.027803 -0.005576  -0.013176 -0.007685 -0.007269   \n",
       "12 2022-06-03  7654.651855  0.000714  0.015501   0.010119  0.005900  0.003292   \n",
       "13 2022-06-06  7660.115723  0.012820  0.051315  -0.008905 -0.012098 -0.015400   \n",
       "14 2022-06-07  7758.319336  0.010635  0.009577   0.017080 -0.001732 -0.007821   \n",
       "15 2022-06-08  7840.826660  0.004739  0.013158  -0.038555 -0.009294  0.004455   \n",
       "16 2022-06-09  7877.981934  0.000662 -0.005436  -0.020242 -0.035022 -0.017400   \n",
       "17 2022-06-10  7883.197266 -0.004222 -0.030975  -0.031015 -0.050032 -0.044444   \n",
       "18 2022-06-13  7849.916504 -0.011384 -0.022563   0.004234 -0.022241 -0.003634   \n",
       "19 2022-06-14  7760.554688  0.005351 -0.029176   0.015236 -0.002233  0.002553   \n",
       "\n",
       "    BRITANNIA   ULTRATECH     WIPRO     APOLO  JUBLFOODS  \n",
       "0    -0.018354  -0.025851 -0.062545 -0.027630  -0.016838  \n",
       "1     0.035474   0.009230  0.018730  0.009967   0.012144  \n",
       "2     0.010666  -0.034649  0.013925  0.013345  -0.004410  \n",
       "3    -0.004760  -0.008155 -0.012983 -0.022949  -0.014936  \n",
       "4     0.013269  -0.012926 -0.032830 -0.029560  -0.028652  \n",
       "5     0.012640   0.014166  0.019108  0.039299   0.048229  \n",
       "6    -0.000941   0.012555  0.029999  0.054316   0.061415  \n",
       "7     0.005242   0.026000  0.019916  0.007820   0.096952  \n",
       "8     0.020007  -0.003285  0.003780  0.022444  -0.028050  \n",
       "9    -0.026454  -0.017583 -0.015270 -0.035257   0.009166  \n",
       "10    0.007251   0.005389  0.007223 -0.050469  -0.006565  \n",
       "11   -0.013153  -0.054762  0.002847 -0.015486  -0.016203  \n",
       "12   -0.010779  -0.017169 -0.004837  0.012511  -0.022727  \n",
       "13   -0.031071  -0.004685 -0.011729 -0.006715  -0.016006  \n",
       "14   -0.006487  -0.004203  0.005880  0.007453  -0.011865  \n",
       "15   -0.004239  -0.009030  0.009885  0.009309   0.016462  \n",
       "16    0.004063   0.005317 -0.029681  0.008297  -0.000286  \n",
       "17   -0.000550  -0.028107 -0.032216 -0.013133  -0.012960  \n",
       "18    0.007100   0.013527 -0.000448  0.014869  -0.001545  \n",
       "19    0.000754   0.004706 -0.013007  0.004452   0.013634  "
      ]
     },
     "execution_count": 9,
     "metadata": {},
     "output_type": "execute_result"
    }
   ],
   "source": [
    "yahoo_finance_data.head(20)"
   ]
  },
  {
   "cell_type": "code",
   "execution_count": 10,
   "metadata": {},
   "outputs": [
    {
     "data": {
      "text/plain": [
       "64"
      ]
     },
     "execution_count": 10,
     "metadata": {},
     "output_type": "execute_result"
    }
   ],
   "source": [
    "len(yahoo_finance_data)"
   ]
  },
  {
   "cell_type": "code",
   "execution_count": 11,
   "metadata": {},
   "outputs": [],
   "source": [
    "yahoo_finance_data.drop(columns=['Price'],inplace=True)"
   ]
  },
  {
   "cell_type": "code",
   "execution_count": 12,
   "metadata": {},
   "outputs": [],
   "source": [
    "yahoo_finance_data = yahoo_finance_data.rename(columns={'Returns':'Maruti'})"
   ]
  },
  {
   "cell_type": "markdown",
   "metadata": {},
   "source": [
    "# Experiment with 10 assets #"
   ]
  },
  {
   "cell_type": "markdown",
   "metadata": {},
   "source": [
    "## We extracted data for 10 assets from Yahoo Finance, time period: 1 quarter, found the means and the covariance matrix for this data ##"
   ]
  },
  {
   "cell_type": "code",
   "execution_count": 13,
   "metadata": {},
   "outputs": [],
   "source": [
    "# yahoo_finance_data.sample(20)"
   ]
  },
  {
   "cell_type": "code",
   "execution_count": 14,
   "metadata": {},
   "outputs": [],
   "source": [
    "yahoo_finance_data.set_index('Date',inplace=True)"
   ]
  },
  {
   "cell_type": "code",
   "execution_count": 15,
   "metadata": {},
   "outputs": [],
   "source": [
    "cov_df=yahoo_finance_data.cov()"
   ]
  },
  {
   "cell_type": "code",
   "execution_count": 16,
   "metadata": {},
   "outputs": [
    {
     "data": {
      "text/plain": [
       "(10, 10)"
      ]
     },
     "execution_count": 16,
     "metadata": {},
     "output_type": "execute_result"
    }
   ],
   "source": [
    "cov_df.to_numpy().shape"
   ]
  },
  {
   "cell_type": "code",
   "execution_count": 17,
   "metadata": {},
   "outputs": [],
   "source": [
    "sigma = cov_df.to_numpy()"
   ]
  },
  {
   "cell_type": "code",
   "execution_count": 18,
   "metadata": {},
   "outputs": [
    {
     "data": {
      "text/plain": [
       "array([[0.01596443, 0.01568142, 0.01582179, 0.01573338, 0.01576616,\n",
       "        0.01577389, 0.01575688, 0.01574434, 0.01580112, 0.01585312],\n",
       "       [0.01568142, 0.01652199, 0.01542503, 0.01597585, 0.01572152,\n",
       "        0.01547838, 0.01564724, 0.01564234, 0.01553762, 0.01546644],\n",
       "       [0.01582179, 0.01542503, 0.03272758, 0.015456  , 0.01585223,\n",
       "        0.0159381 , 0.01560434, 0.01541476, 0.01568719, 0.01557992],\n",
       "       [0.01573338, 0.01597585, 0.015456  , 0.01634575, 0.01588138,\n",
       "        0.01571518, 0.01580981, 0.01588733, 0.01581064, 0.01585341],\n",
       "       [0.01576616, 0.01572152, 0.01585223, 0.01588138, 0.01591485,\n",
       "        0.01576412, 0.01579542, 0.01579451, 0.01579423, 0.01586452],\n",
       "       [0.01577389, 0.01547838, 0.0159381 , 0.01571518, 0.01576412,\n",
       "        0.01591779, 0.01574653, 0.01571657, 0.0157756 , 0.01582377],\n",
       "       [0.01575688, 0.01564724, 0.01560434, 0.01580981, 0.01579542,\n",
       "        0.01574653, 0.01595813, 0.01576214, 0.01575905, 0.01588286],\n",
       "       [0.01574434, 0.01564234, 0.01541476, 0.01588733, 0.01579451,\n",
       "        0.01571657, 0.01576214, 0.01593695, 0.01579832, 0.01594196],\n",
       "       [0.01580112, 0.01553762, 0.01568719, 0.01581064, 0.01579423,\n",
       "        0.0157756 , 0.01575905, 0.01579832, 0.01602882, 0.01590054],\n",
       "       [0.01585312, 0.01546644, 0.01557992, 0.01585341, 0.01586452,\n",
       "        0.01582377, 0.01588286, 0.01594196, 0.01590054, 0.01639879]])"
      ]
     },
     "execution_count": 18,
     "metadata": {},
     "output_type": "execute_result"
    }
   ],
   "source": [
    "sigma"
   ]
  },
  {
   "cell_type": "code",
   "execution_count": 19,
   "metadata": {},
   "outputs": [],
   "source": [
    "# yahoo_finance_data.corr()"
   ]
  },
  {
   "cell_type": "code",
   "execution_count": 20,
   "metadata": {},
   "outputs": [],
   "source": [
    "mu=yahoo_finance_data.mean().to_numpy()"
   ]
  },
  {
   "cell_type": "code",
   "execution_count": 21,
   "metadata": {},
   "outputs": [
    {
     "data": {
      "text/plain": [
       "array([-0.01278393, -0.01757157,  0.00153725, -0.01503446, -0.01196936,\n",
       "       -0.01387134, -0.01447346, -0.0167434 , -0.01323879, -0.01195091])"
      ]
     },
     "execution_count": 21,
     "metadata": {},
     "output_type": "execute_result"
    }
   ],
   "source": [
    "mu"
   ]
  },
  {
   "cell_type": "code",
   "execution_count": 22,
   "metadata": {},
   "outputs": [],
   "source": [
    "# prepare problem instance\n",
    "n = 10  # number of assets\n",
    "q = 0.5  # risk factor\n",
    "budget = n // 2  # budget\n",
    "penalty = 2 * n  # scaling of penalty term"
   ]
  },
  {
   "cell_type": "markdown",
   "metadata": {},
   "source": [
    "## creating a quadratic problem ##"
   ]
  },
  {
   "cell_type": "code",
   "execution_count": 23,
   "metadata": {},
   "outputs": [],
   "source": [
    "# create docplex model\n",
    "mdl = Model(\"portfolio_optimization\")\n",
    "x = mdl.binary_var_list(range(n), name=\"x\")\n",
    "objective = mdl.sum([mu[i] * x[i] for i in range(n)])\n",
    "objective -= q * mdl.sum([sigma[i, j] * x[i] * x[j] for i in range(n) for j in range(n)])\n",
    "mdl.maximize(objective)\n",
    "mdl.add_constraint(mdl.sum(x[i] for i in range(n)) == budget)\n",
    "\n",
    "# case to\n",
    "qp = from_docplex_mp(mdl)"
   ]
  },
  {
   "cell_type": "markdown",
   "metadata": {},
   "source": [
    "## solving the problem classically ##"
   ]
  },
  {
   "cell_type": "code",
   "execution_count": 24,
   "metadata": {},
   "outputs": [
    {
     "name": "stdout",
     "output_type": "stream",
     "text": [
      "objective function value: -0.25484380137339\n",
      "variable values: x_0=1.0, x_1=0.0, x_2=1.0, x_3=0.0, x_4=1.0, x_5=0.0, x_6=0.0, x_7=0.0, x_8=1.0, x_9=1.0\n",
      "status: SUCCESS\n",
      "Wall time: 104 ms\n"
     ]
    }
   ],
   "source": [
    "%%time\n",
    "opt_result = MinimumEigenOptimizer(NumPyMinimumEigensolver()).solve(qp)\n",
    "print(opt_result.prettyprint())"
   ]
  },
  {
   "cell_type": "markdown",
   "metadata": {},
   "source": [
    "## using a linear equality to penalty converter on the quadratic problem so that the constraints are taken into account in the objective, making the problem simpler. Converting to an ising model after that ##"
   ]
  },
  {
   "cell_type": "code",
   "execution_count": 25,
   "metadata": {},
   "outputs": [],
   "source": [
    "# we convert the problem to an unconstrained problem for further analysis,\n",
    "# otherwise this would not be necessary as the MinimumEigenSolver would do this\n",
    "# translation automatically\n",
    "linear2penalty = LinearEqualityToPenalty(penalty=penalty)\n",
    "qp = linear2penalty.convert(qp)\n",
    "_, offset = qp.to_ising()"
   ]
  },
  {
   "cell_type": "markdown",
   "metadata": {},
   "source": [
    "## using cobyla optimizer and qasm simulator. We are using CVaR expectation and hence, created a list of alpha values ##"
   ]
  },
  {
   "cell_type": "code",
   "execution_count": 26,
   "metadata": {},
   "outputs": [],
   "source": [
    "# set classical optimizer\n",
    "maxiter = 100\n",
    "optimizer = COBYLA(maxiter=maxiter)\n",
    "\n",
    "# set variational ansatz\n",
    "#ansatz = RealAmplitudes(n, reps=1)\n",
    "#m = ansatz.num_parameters\n",
    "\n",
    "# set backend\n",
    "backend_name = \"qasm_simulator\"  # use this for QASM simulator\n",
    "# backend_name = 'aer_simulator_statevector'  # use this for statevector simlator\n",
    "backend = Aer.get_backend(backend_name)\n",
    "\n",
    "# run variational optimization for different values of alpha\n",
    "alphas = [1.0, 0.50, 0.25, 0.3, 0.4, 0.45]  # confidence levels to be evaluated"
   ]
  },
  {
   "cell_type": "markdown",
   "metadata": {},
   "source": [
    "## fitting CVaR QAOA ##"
   ]
  },
  {
   "cell_type": "markdown",
   "metadata": {},
   "source": [
    "### the qiskit documentation says the following for QAOA class\n",
    "### CLASS QAOA(optimizer=None, reps=1, initial_state=None, mixer=None, initial_point=None, gradient=None, expectation=None, include_custom=False, max_evals_grouped=1, callback=None, quantum_instance=None)\n",
    "### Parameters: \n",
    "### optimizer (Union[Optimizer, Minimizer, None]) – A classical optimizer, see also VQE for more details on the possible types.\n",
    "\n",
    "### reps (int) – the integer parameter  as specified in https://arxiv.org/abs/1411.4028, Has a minimum valid value of 1.\n",
    "\n",
    "### initial_state (Optional[QuantumCircuit]) – An optional initial state to prepend the QAOA circuit with\n",
    "\n",
    "### mixer (Union[QuantumCircuit, OperatorBase, None]) – the mixer Hamiltonian to evolve with or a custom quantum circuit. Allows support of optimizations in constrained subspaces as per https://arxiv.org/abs/1709.03489 as well as warm-starting the optimization as introduced in http://arxiv.org/abs/2009.10095.\n",
    "\n",
    "### initial_point (Optional[ndarray]) – An optional initial point (i.e. initial parameter values) for the optimizer. If None then it will simply compute a random one.\n",
    "\n",
    "### gradient (Union[GradientBase, Callable[[Union[ndarray, List]], List], None]) – An optional gradient operator respectively a gradient function used for optimization.\n",
    "\n",
    "### expectation (Optional[ExpectationBase]) – The Expectation converter for taking the average value of the Observable over the ansatz state function. When None (the default) an ExpectationFactory is used to select an appropriate expectation based on the operator and backend. When using Aer qasm_simulator backend, with paulis, it is however much faster to leverage custom Aer function for the computation but, although VQE performs much faster with it, the outcome is ideal, with no shot noise, like using a state vector simulator. If you are just looking for the quickest performance when choosing Aer qasm_simulator and the lack of shot noise is not an issue then set include_custom parameter here to True (defaults to False).\n",
    "\n",
    "### include_custom (bool) – When expectation parameter here is None setting this to True will allow the factory to include the custom Aer pauli expectation.\n",
    "\n",
    "### max_evals_grouped (int) – Max number of evaluations performed simultaneously. Signals the given optimizer that more than one set of parameters can be supplied so that potentially the expectation values can be computed in parallel. Typically this is possible when a finite difference gradient is used by the optimizer such that multiple points to compute the gradient can be passed and if computed in parallel improve overall execution time. Ignored if a gradient operator or function is given.\n",
    "\n",
    "### callback (Optional[Callable[[int, ndarray, float, float], None]]) – a callback that can access the intermediate data during the optimization. Four parameter values are passed to the callback as follows during each evaluation by the optimizer for its current set of parameters as it works towards the minimum. These are: the evaluation count, the optimizer parameters for the ansatz, the evaluated mean and the evaluated standard deviation.\n",
    "\n",
    "### quantum_instance (Union[Backend, QuantumInstance, None]) – Quantum Instance or Backend"
   ]
  },
  {
   "cell_type": "markdown",
   "metadata": {},
   "source": [
    "### we can try different values for reps, initial point, optimizer and maybe, mixer Hamiltonian and tweak other parameters. ###"
   ]
  },
  {
   "cell_type": "code",
   "execution_count": 27,
   "metadata": {},
   "outputs": [
    {
     "data": {
      "text/plain": [
       "50.28458800266239"
      ]
     },
     "execution_count": 27,
     "metadata": {},
     "output_type": "execute_result"
    }
   ],
   "source": [
    "offset"
   ]
  },
  {
   "cell_type": "code",
   "execution_count": 32,
   "metadata": {},
   "outputs": [
    {
     "name": "stdout",
     "output_type": "stream",
     "text": [
      "alpha = 1.0:\n",
      "objective function value: -0.25553763310614386\n",
      "variable values: x_0=1.0, x_1=0.0, x_2=1.0, x_3=0.0, x_4=1.0, x_5=1.0, x_6=0.0, x_7=0.0, x_8=0.0, x_9=1.0\n",
      "status: SUCCESS\n",
      "\n",
      "alpha = 0.5:\n",
      "objective function value: -0.2548438013733403\n",
      "variable values: x_0=1.0, x_1=0.0, x_2=1.0, x_3=0.0, x_4=1.0, x_5=0.0, x_6=0.0, x_7=0.0, x_8=1.0, x_9=1.0\n",
      "status: SUCCESS\n",
      "\n",
      "alpha = 0.25:\n",
      "objective function value: -0.25678146226908893\n",
      "variable values: x_0=1.0, x_1=0.0, x_2=1.0, x_3=0.0, x_4=0.0, x_5=1.0, x_6=0.0, x_7=0.0, x_8=1.0, x_9=1.0\n",
      "status: SUCCESS\n",
      "\n",
      "alpha = 0.3:\n",
      "objective function value: -0.2548438013733403\n",
      "variable values: x_0=1.0, x_1=0.0, x_2=1.0, x_3=0.0, x_4=1.0, x_5=0.0, x_6=0.0, x_7=0.0, x_8=1.0, x_9=1.0\n",
      "status: SUCCESS\n",
      "\n",
      "alpha = 0.4:\n",
      "objective function value: -0.2548438013733403\n",
      "variable values: x_0=1.0, x_1=0.0, x_2=1.0, x_3=0.0, x_4=1.0, x_5=0.0, x_6=0.0, x_7=0.0, x_8=1.0, x_9=1.0\n",
      "status: SUCCESS\n",
      "\n",
      "alpha = 0.45:\n",
      "objective function value: -0.2548438013733403\n",
      "variable values: x_0=1.0, x_1=0.0, x_2=1.0, x_3=0.0, x_4=1.0, x_5=0.0, x_6=0.0, x_7=0.0, x_8=1.0, x_9=1.0\n",
      "status: SUCCESS\n",
      "\n",
      "Wall time: 3min 16s\n"
     ]
    }
   ],
   "source": [
    "%%time\n",
    "# dictionaries to store optimization progress and results\n",
    "objectives = {alpha: [] for alpha in alphas}  # set of tested objective functions w.r.t. alpha\n",
    "results = {}  # results of minimum eigensolver w.r.t alpha\n",
    "\n",
    "# callback to store intermediate results\n",
    "def callback(i, params, obj, stddev, alpha):\n",
    "    # we translate the objective from the internal Ising representation\n",
    "    # to the original optimization problem\n",
    "    objectives[alpha] += [-(obj + offset)]\n",
    "\n",
    "\n",
    "# loop over all given alpha values\n",
    "for alpha in alphas:\n",
    "\n",
    "    # initialize CVaR_alpha objective\n",
    "    cvar_exp = CVaRExpectation(alpha, PauliExpectation())\n",
    "#     cvar_exp.compute_variance = lambda x: [0]  # to be fixed in PR #1373\n",
    "\n",
    "    # initialize VQE using CVaR\n",
    "    qaoa = QAOA(\n",
    "        expectation=cvar_exp,\n",
    "        optimizer=optimizer,\n",
    "        quantum_instance=backend,\n",
    "        callback=lambda i, params, obj, stddev: callback(i, params, obj, stddev, alpha),\n",
    "    )\n",
    "\n",
    "    # initialize optimization algorithm based on CVaR-VQE\n",
    "    opt_alg = MinimumEigenOptimizer(qaoa)\n",
    "\n",
    "    # solve problem\n",
    "    results[alpha] = opt_alg.solve(qp)\n",
    "\n",
    "    # print results\n",
    "    print(\"alpha = {}:\".format(alpha))\n",
    "    print(results[alpha].prettyprint())\n",
    "    print()"
   ]
  },
  {
   "cell_type": "markdown",
   "metadata": {},
   "source": [
    "## plotting resulting history of objective values ##"
   ]
  },
  {
   "cell_type": "code",
   "execution_count": 33,
   "metadata": {},
   "outputs": [
    {
     "data": {
      "image/png": "[encoded data removed]",
      "text/plain": [
       "<Figure size 720x360 with 1 Axes>"
      ]
     },
     "metadata": {
      "needs_background": "light"
     },
     "output_type": "display_data"
    }
   ],
   "source": [
    "# plot resulting history of objective values\n",
    "plt.figure(figsize=(10, 5))\n",
    "plt.plot([0, maxiter], [opt_result.fval, opt_result.fval], \"r--\", linewidth=2, label=\"optimum\")\n",
    "for alpha in alphas:\n",
    "    plt.plot(objectives[alpha], label=\"alpha = %.2f\" % alpha, linewidth=2)\n",
    "plt.legend(loc=\"lower right\", fontsize=14)\n",
    "plt.xlim(0, maxiter)\n",
    "plt.xticks(fontsize=14)\n",
    "plt.xlabel(\"iterations\", fontsize=14)\n",
    "plt.yticks(fontsize=14)\n",
    "plt.ylabel(\"objective value\", fontsize=14)\n",
    "plt.show()"
   ]
  },
  {
   "cell_type": "code",
   "execution_count": 34,
   "metadata": {},
   "outputs": [
    {
     "data": {
      "text/plain": [
       "OrderedDict([('h', 10), ('PauliEvolution', 2)])"
      ]
     },
     "execution_count": 34,
     "metadata": {},
     "output_type": "execute_result"
    }
   ],
   "source": [
    "qaoa.ansatz.count_ops()"
   ]
  },
  {
   "cell_type": "code",
   "execution_count": 35,
   "metadata": {},
   "outputs": [],
   "source": [
    "from qiskit import transpile"
   ]
  },
  {
   "cell_type": "code",
   "execution_count": 36,
   "metadata": {},
   "outputs": [],
   "source": [
    "qc_basis = transpile(qaoa.ansatz, backend,optimization_level=3, basis_gates=['cx','u'])\n",
    "# qc_basis.draw()\n",
    "gate_dict=qc_basis.count_ops()"
   ]
  },
  {
   "cell_type": "code",
   "execution_count": 37,
   "metadata": {},
   "outputs": [
    {
     "data": {
      "text/plain": [
       "OrderedDict([('cx', 90), ('u', 75)])"
      ]
     },
     "execution_count": 37,
     "metadata": {},
     "output_type": "execute_result"
    }
   ],
   "source": [
    "gate_dict"
   ]
  },
  {
   "cell_type": "markdown",
   "metadata": {},
   "source": [
    "## Finding the circuit cost ##"
   ]
  },
  {
   "cell_type": "markdown",
   "metadata": {},
   "source": [
    "### Cost is described as following in the into notebook for a maxcut problem ###\n",
    "### task_price = 0.25 # price for submitting task to system (in dollars) ###\n",
    "\n",
    "### price_per_CNOT = 0.0001 # price for a single CNOT gate (in dollars) ###\n",
    "### price_per_Zrot = 0.00003 # price for a single Z rotation (in dollars) ###\n",
    "### price_per_Xrot = 0.00008 # price for a single X rotation (in dollars) ###\n",
    "\n",
    "### price_per_shot = p * (len(G.edges()) * (2* price_per_CNOT + price_per_Zrot) + len(G.nodes()) * price_per_Xrot) ###\n",
    "\n",
    "### Optim_evals = res.nfev # Number of optimization steps i.e. the number of times the quantum hardware was called. ###\n",
    "### Meas_shots = shotsin # Number of measurements of quantum hardware i.e. number of times the circuit was applied to the hardware. ###\n",
    "\n",
    "### Cost = (Optim_evals * shotsin * price_per_shot) + task_price ###\n"
   ]
  },
  {
   "cell_type": "markdown",
   "metadata": {},
   "source": [
    "### We decided to define our cost in a similar way below. We calculate the cost for different alpha values seperately as the number of iterations required for convergence is different for different alpha values. The default number of shots is 1024. We just set cost of a single cx gate as 0.0001and the cost of a single qubit gate as 0.00005. Task price is 0.25. ###"
   ]
  },
  {
   "cell_type": "code",
   "execution_count": 38,
   "metadata": {},
   "outputs": [
    {
     "name": "stdout",
     "output_type": "stream",
     "text": [
      "Total cost for when alpha is 1.0: 431.098\n",
      "Total cost for when alpha is 0.5: 391.93\n",
      "Total cost for when alpha is 0.25: 391.93\n",
      "Total cost for when alpha is 0.3: 365.81800000000004\n",
      "Total cost for when alpha is 0.4: 352.762\n",
      "Total cost for when alpha is 0.45: 339.706\n"
     ]
    }
   ],
   "source": [
    "task_price=0.25\n",
    "cost_cx = 0.0001\n",
    "cost_u = 0.00005\n",
    "price_per_shot = (cost_cx * gate_dict.get('cx')) + (cost_u * gate_dict.get('u'))\n",
    "shotsin=1024\n",
    "for alpha in alphas:\n",
    "    optim_evals=len(objectives[alpha])\n",
    "    print('Total cost for when alpha is '+str(alpha)+': '+ str((optim_evals*shotsin*price_per_shot)+task_price))\n",
    "# total_cost = (optim_evals*shotsin*price_per_shot)+task_price"
   ]
  },
  {
   "cell_type": "markdown",
   "metadata": {},
   "source": [
    "### We evaluated the cost for different alphas, but we also need to see if we are not too far away from optimal even if the cost is least for any alpha. Based on that, we could conclude which alpha works best. We can see this from the plot itself and also from the cell output where we ran QAOA, but lets print the exact optimal value here. ###"
   ]
  },
  {
   "cell_type": "code",
   "execution_count": 39,
   "metadata": {},
   "outputs": [
    {
     "name": "stdout",
     "output_type": "stream",
     "text": [
      "The optimal value with alpha 1.0: -0.25553763310614386\n",
      "The optimal value with alpha 0.5: -0.2548438013733403\n",
      "The optimal value with alpha 0.25: -0.25678146226908893\n",
      "The optimal value with alpha 0.3: -0.2548438013733403\n",
      "The optimal value with alpha 0.4: -0.2548438013733403\n",
      "The optimal value with alpha 0.45: -0.2548438013733403\n"
     ]
    }
   ],
   "source": [
    "for alpha in alphas:\n",
    "    print('The optimal value with alpha '+str(alpha)+': '+str(results[alpha].fval))"
   ]
  },
  {
   "cell_type": "markdown",
   "metadata": {},
   "source": [
    "### alpha=1 seems best due to slightly lower cost and the same optimal value as alpha 0.5 and alpha 0.25. This is because alpha=1 led to convergence much faster. ###"
   ]
  },
  {
   "cell_type": "markdown",
   "metadata": {},
   "source": [
    "### Circuit depth ###"
   ]
  },
  {
   "cell_type": "code",
   "execution_count": 40,
   "metadata": {},
   "outputs": [
    {
     "data": {
      "text/plain": [
       "54"
      ]
     },
     "execution_count": 40,
     "metadata": {},
     "output_type": "execute_result"
    }
   ],
   "source": [
    "qc_basis.depth()"
   ]
  },
  {
   "cell_type": "markdown",
   "metadata": {},
   "source": [
    "### Optimizer time ###"
   ]
  },
  {
   "cell_type": "code",
   "execution_count": 41,
   "metadata": {},
   "outputs": [
    {
     "name": "stdout",
     "output_type": "stream",
     "text": [
      "Optimizer time for alpha 1.0: 32.7853729724884\n",
      "Optimizer time for alpha 0.5: 29.403862237930298\n",
      "Optimizer time for alpha 0.25: 33.17349362373352\n",
      "Optimizer time for alpha 0.3: 34.235607385635376\n",
      "Optimizer time for alpha 0.4: 31.411546230316162\n",
      "Optimizer time for alpha 0.45: 30.40173840522766\n"
     ]
    }
   ],
   "source": [
    "for alpha in alphas:\n",
    "    x=results[alpha]\n",
    "    print('Optimizer time for alpha '+ str(alpha)+ ': '+ str(x.min_eigen_solver_result.optimizer_time))"
   ]
  },
  {
   "cell_type": "code",
   "execution_count": 45,
   "metadata": {},
   "outputs": [
    {
     "data": {
      "text/plain": [
       "2"
      ]
     },
     "execution_count": 45,
     "metadata": {},
     "output_type": "execute_result"
    }
   ],
   "source": [
    "qaoa.ansatz.num_parameters"
   ]
  },
  {
   "cell_type": "code",
   "execution_count": 47,
   "metadata": {},
   "outputs": [],
   "source": [
    "# qaoa.ansatz.draw()"
   ]
  },
  {
   "cell_type": "markdown",
   "metadata": {},
   "source": [
    "## Trying different fake backends and using noise models for the same experiment ##"
   ]
  },
  {
   "cell_type": "markdown",
   "metadata": {},
   "source": [
    "### The fake backends are built to mimic the behaviors of IBM Quantum systems using system snapshots. The system snapshots contain important information about the quantum system such as coupling map, basis gates, qubit properties (T1, T2, error rate, etc.) which are useful for testing the transpiler and performing noisy simulation of the system. ###"
   ]
  },
  {
   "cell_type": "markdown",
   "metadata": {},
   "source": [
    "### starting with the FakeMumbai backend ###"
   ]
  },
  {
   "cell_type": "code",
   "execution_count": 78,
   "metadata": {},
   "outputs": [],
   "source": [
    "import os\n",
    "from qiskit.providers.aer import QasmSimulator, AerSimulator\n",
    "from qiskit.providers.aer.noise import NoiseModel\n",
    "from qiskit.providers.fake_provider import FakeSydney, FakeMumbai\n",
    "from qiskit.utils import QuantumInstance"
   ]
  },
  {
   "cell_type": "code",
   "execution_count": 79,
   "metadata": {},
   "outputs": [
    {
     "name": "stdout",
     "output_type": "stream",
     "text": [
      "NoiseModel:\n",
      "  Basis gates: ['cx', 'id', 'kraus', 'qerror_loc', 'quantum_channel', 'roerror', 'rz', 'save_amplitudes', 'save_amplitudes_sq', 'save_clifford', 'save_density_matrix', 'save_expval', 'save_expval_var', 'save_matrix_product_state', 'save_probabilities', 'save_probabilities_dict', 'save_stabilizer', 'save_state', 'save_statevector', 'save_statevector_dict', 'save_superop', 'save_unitary', 'set_density_matrix', 'set_matrix_product_state', 'set_stabilizer', 'set_statevector', 'set_superop', 'set_unitary', 'snapshot', 'superop', 'sx', 'x']\n",
      "  Instructions with noise: ['x', 'measure', 'cx', 'sx', 'reset', 'id']\n",
      "  Qubits with noise: [0, 1, 2, 3, 4, 5, 6, 7, 8, 9, 10, 11, 12, 13, 14, 15, 16, 17, 18, 19, 20, 21, 22, 23, 24, 25, 26]\n",
      "  Specific qubit errors: [('id', (0,)), ('id', (1,)), ('id', (2,)), ('id', (3,)), ('id', (4,)), ('id', (5,)), ('id', (6,)), ('id', (7,)), ('id', (8,)), ('id', (9,)), ('id', (10,)), ('id', (11,)), ('id', (12,)), ('id', (13,)), ('id', (14,)), ('id', (15,)), ('id', (16,)), ('id', (17,)), ('id', (18,)), ('id', (19,)), ('id', (20,)), ('id', (21,)), ('id', (22,)), ('id', (23,)), ('id', (24,)), ('id', (25,)), ('id', (26,)), ('sx', (0,)), ('sx', (1,)), ('sx', (2,)), ('sx', (3,)), ('sx', (4,)), ('sx', (5,)), ('sx', (6,)), ('sx', (7,)), ('sx', (8,)), ('sx', (9,)), ('sx', (10,)), ('sx', (11,)), ('sx', (12,)), ('sx', (13,)), ('sx', (14,)), ('sx', (15,)), ('sx', (16,)), ('sx', (17,)), ('sx', (18,)), ('sx', (19,)), ('sx', (20,)), ('sx', (21,)), ('sx', (22,)), ('sx', (23,)), ('sx', (24,)), ('sx', (25,)), ('sx', (26,)), ('x', (0,)), ('x', (1,)), ('x', (2,)), ('x', (3,)), ('x', (4,)), ('x', (5,)), ('x', (6,)), ('x', (7,)), ('x', (8,)), ('x', (9,)), ('x', (10,)), ('x', (11,)), ('x', (12,)), ('x', (13,)), ('x', (14,)), ('x', (15,)), ('x', (16,)), ('x', (17,)), ('x', (18,)), ('x', (19,)), ('x', (20,)), ('x', (21,)), ('x', (22,)), ('x', (23,)), ('x', (24,)), ('x', (25,)), ('x', (26,)), ('cx', (3, 2)), ('cx', (2, 3)), ('cx', (5, 8)), ('cx', (8, 5)), ('cx', (9, 8)), ('cx', (8, 9)), ('cx', (14, 11)), ('cx', (11, 14)), ('cx', (13, 14)), ('cx', (14, 13)), ('cx', (16, 14)), ('cx', (14, 16)), ('cx', (2, 1)), ('cx', (1, 2)), ('cx', (19, 16)), ('cx', (16, 19)), ('cx', (12, 13)), ('cx', (13, 12)), ('cx', (24, 23)), ('cx', (23, 24)), ('cx', (8, 11)), ('cx', (11, 8)), ('cx', (18, 21)), ('cx', (21, 18)), ('cx', (3, 5)), ('cx', (5, 3)), ('cx', (10, 12)), ('cx', (12, 10)), ('cx', (22, 19)), ('cx', (19, 22)), ('cx', (10, 7)), ('cx', (7, 10)), ('cx', (25, 22)), ('cx', (22, 25)), ('cx', (6, 7)), ('cx', (7, 6)), ('cx', (17, 18)), ('cx', (18, 17)), ('cx', (4, 7)), ('cx', (7, 4)), ('cx', (20, 19)), ('cx', (19, 20)), ('cx', (21, 23)), ('cx', (23, 21)), ('cx', (4, 1)), ('cx', (1, 4)), ('cx', (15, 18)), ('cx', (18, 15)), ('cx', (26, 25)), ('cx', (25, 26)), ('cx', (0, 1)), ('cx', (1, 0)), ('cx', (15, 12)), ('cx', (12, 15)), ('cx', (24, 25)), ('cx', (25, 24)), ('reset', (0,)), ('reset', (1,)), ('reset', (2,)), ('reset', (3,)), ('reset', (4,)), ('reset', (5,)), ('reset', (6,)), ('reset', (7,)), ('reset', (8,)), ('reset', (9,)), ('reset', (10,)), ('reset', (11,)), ('reset', (12,)), ('reset', (13,)), ('reset', (14,)), ('reset', (15,)), ('reset', (16,)), ('reset', (17,)), ('reset', (18,)), ('reset', (19,)), ('reset', (20,)), ('reset', (21,)), ('reset', (22,)), ('reset', (23,)), ('reset', (24,)), ('reset', (25,)), ('reset', (26,)), ('measure', (0,)), ('measure', (1,)), ('measure', (2,)), ('measure', (3,)), ('measure', (4,)), ('measure', (5,)), ('measure', (6,)), ('measure', (7,)), ('measure', (8,)), ('measure', (9,)), ('measure', (10,)), ('measure', (11,)), ('measure', (12,)), ('measure', (13,)), ('measure', (14,)), ('measure', (15,)), ('measure', (16,)), ('measure', (17,)), ('measure', (18,)), ('measure', (19,)), ('measure', (20,)), ('measure', (21,)), ('measure', (22,)), ('measure', (23,)), ('measure', (24,)), ('measure', (25,)), ('measure', (26,))]\n",
      "\n"
     ]
    }
   ],
   "source": [
    "device_backend = FakeMumbai()\n",
    "\n",
    "backend = Aer.get_backend('aer_simulator')\n",
    "counts1 = []\n",
    "values1 = []\n",
    "noise_model = None\n",
    "device = AerSimulator.from_backend(device_backend)\n",
    "coupling_map = device.configuration().coupling_map\n",
    "noise_model = NoiseModel.from_backend(device)\n",
    "basis_gates = noise_model.basis_gates\n",
    "\n",
    "print(noise_model)\n",
    "print()\n",
    "seed=1234\n",
    "algorithm_globals.random_seed = 1234\n",
    "qi = QuantumInstance(backend=backend, seed_simulator=seed, seed_transpiler=seed,\n",
    "                     coupling_map=coupling_map, noise_model=noise_model,shots=1024)"
   ]
  },
  {
   "cell_type": "code",
   "execution_count": 80,
   "metadata": {},
   "outputs": [
    {
     "name": "stdout",
     "output_type": "stream",
     "text": [
      "alpha = 1.0:\n",
      "objective function value: -0.2558995449738859\n",
      "variable values: x_0=1.0, x_1=0.0, x_2=1.0, x_3=0.0, x_4=1.0, x_5=0.0, x_6=1.0, x_7=0.0, x_8=0.0, x_9=1.0\n",
      "status: SUCCESS\n",
      "\n",
      "alpha = 0.5:\n",
      "objective function value: -0.25553763310614386\n",
      "variable values: x_0=1.0, x_1=0.0, x_2=1.0, x_3=0.0, x_4=1.0, x_5=1.0, x_6=0.0, x_7=0.0, x_8=0.0, x_9=1.0\n",
      "status: SUCCESS\n",
      "\n",
      "alpha = 0.25:\n",
      "objective function value: -0.2563296633540517\n",
      "variable values: x_0=0.0, x_1=0.0, x_2=1.0, x_3=0.0, x_4=1.0, x_5=0.0, x_6=1.0, x_7=0.0, x_8=1.0, x_9=1.0\n",
      "status: SUCCESS\n",
      "\n",
      "alpha = 0.3:\n",
      "objective function value: -0.2548438013733403\n",
      "variable values: x_0=1.0, x_1=0.0, x_2=1.0, x_3=0.0, x_4=1.0, x_5=0.0, x_6=0.0, x_7=0.0, x_8=1.0, x_9=1.0\n",
      "status: SUCCESS\n",
      "\n",
      "alpha = 0.4:\n",
      "objective function value: -0.2548438013733403\n",
      "variable values: x_0=1.0, x_1=0.0, x_2=1.0, x_3=0.0, x_4=1.0, x_5=0.0, x_6=0.0, x_7=0.0, x_8=1.0, x_9=1.0\n",
      "status: SUCCESS\n",
      "\n",
      "alpha = 0.45:\n",
      "objective function value: -0.25553763310614386\n",
      "variable values: x_0=1.0, x_1=0.0, x_2=1.0, x_3=0.0, x_4=1.0, x_5=1.0, x_6=0.0, x_7=0.0, x_8=0.0, x_9=1.0\n",
      "status: SUCCESS\n",
      "\n",
      "Wall time: 6min 6s\n"
     ]
    }
   ],
   "source": [
    "%%time\n",
    "# dictionaries to store optimization progress and results\n",
    "objectives = {alpha: [] for alpha in alphas}  # set of tested objective functions w.r.t. alpha\n",
    "results = {}  # results of minimum eigensolver w.r.t alpha\n",
    "\n",
    "# callback to store intermediate results\n",
    "def callback(i, params, obj, stddev, alpha):\n",
    "    # we translate the objective from the internal Ising representation\n",
    "    # to the original optimization problem\n",
    "    objectives[alpha] += [-(obj + offset)]\n",
    "\n",
    "\n",
    "# loop over all given alpha values\n",
    "for alpha in alphas:\n",
    "\n",
    "    # initialize CVaR_alpha objective\n",
    "    cvar_exp = CVaRExpectation(alpha, PauliExpectation())\n",
    "#     cvar_exp.compute_variance = lambda x: [0]  # to be fixed in PR #1373\n",
    "\n",
    "    # initialize VQE using CVaR\n",
    "    qaoa = QAOA(\n",
    "        expectation=cvar_exp,\n",
    "        optimizer=optimizer,\n",
    "        quantum_instance=qi,\n",
    "        callback=lambda i, params, obj, stddev: callback(i, params, obj, stddev, alpha),\n",
    "    )\n",
    "\n",
    "    # initialize optimization algorithm based on CVaR-VQE\n",
    "    opt_alg = MinimumEigenOptimizer(qaoa)\n",
    "\n",
    "    # solve problem\n",
    "    results[alpha] = opt_alg.solve(qp)\n",
    "\n",
    "    # print results\n",
    "    print(\"alpha = {}:\".format(alpha))\n",
    "    print(results[alpha].prettyprint())\n",
    "    print()"
   ]
  },
  {
   "cell_type": "markdown",
   "metadata": {},
   "source": [
    "### Note: With the above noise model, results seem slightly different from what we got with the qasm simulator ###"
   ]
  },
  {
   "cell_type": "code",
   "execution_count": 81,
   "metadata": {},
   "outputs": [
    {
     "data": {
      "image/png": "[encoded data removed]",
      "text/plain": [
       "<Figure size 720x360 with 1 Axes>"
      ]
     },
     "metadata": {
      "needs_background": "light"
     },
     "output_type": "display_data"
    }
   ],
   "source": [
    "# plot resulting history of objective values\n",
    "plt.figure(figsize=(10, 5))\n",
    "plt.plot([0, maxiter], [opt_result.fval, opt_result.fval], \"r--\", linewidth=2, label=\"optimum\")\n",
    "for alpha in alphas:\n",
    "    plt.plot(objectives[alpha], label=\"alpha = %.2f\" % alpha, linewidth=2)\n",
    "plt.legend(loc=\"lower right\", fontsize=14)\n",
    "plt.xlim(0, maxiter)\n",
    "plt.xticks(fontsize=14)\n",
    "plt.xlabel(\"iterations\", fontsize=14)\n",
    "plt.yticks(fontsize=14)\n",
    "plt.ylabel(\"objective value\", fontsize=14)\n",
    "plt.show()"
   ]
  },
  {
   "cell_type": "code",
   "execution_count": 82,
   "metadata": {},
   "outputs": [
    {
     "data": {
      "text/plain": [
       "OrderedDict([('cx', 207), ('u', 105)])"
      ]
     },
     "execution_count": 82,
     "metadata": {},
     "output_type": "execute_result"
    }
   ],
   "source": [
    "qc_basis = transpile(qaoa.ansatz, device_backend,optimization_level=3, basis_gates=['cx','u'])\n",
    "# qc_basis.draw()\n",
    "gate_dict=qc_basis.count_ops()\n",
    "\n",
    "gate_dict"
   ]
  },
  {
   "cell_type": "code",
   "execution_count": 88,
   "metadata": {},
   "outputs": [
    {
     "name": "stdout",
     "output_type": "stream",
     "text": [
      "The number of iterations for alpha 1.0: 33\n",
      "The number of iterations for alpha 0.5: 32\n",
      "The number of iterations for alpha 0.25: 26\n",
      "The number of iterations for alpha 0.3: 30\n",
      "The number of iterations for alpha 0.4: 30\n",
      "The number of iterations for alpha 0.45: 28\n"
     ]
    }
   ],
   "source": [
    "for alpha in alphas:\n",
    "    optim_evals=len(objectives[alpha])\n",
    "    print('The number of iterations for alpha '+str(alpha)+': '+ str(optim_evals))"
   ]
  },
  {
   "cell_type": "code",
   "execution_count": 83,
   "metadata": {},
   "outputs": [
    {
     "name": "stdout",
     "output_type": "stream",
     "text": [
      "Total cost for when alpha is 1.0: 877.1524000000001\n",
      "Total cost for when alpha is 0.5: 850.5796\n",
      "Total cost for when alpha is 0.25: 691.1428000000001\n",
      "Total cost for when alpha is 0.3: 797.434\n",
      "Total cost for when alpha is 0.4: 797.434\n",
      "Total cost for when alpha is 0.45: 744.2884\n"
     ]
    }
   ],
   "source": [
    "task_price=0.25\n",
    "cost_cx = 0.0001\n",
    "cost_u = 0.00005\n",
    "price_per_shot = (cost_cx * gate_dict.get('cx')) + (cost_u * gate_dict.get('u'))\n",
    "shotsin=1024\n",
    "for alpha in alphas:\n",
    "    optim_evals=len(objectives[alpha])\n",
    "    print('Total cost for when alpha is '+str(alpha)+': '+ str((optim_evals*shotsin*price_per_shot)+task_price))\n",
    "# total_cost = (optim_evals*shotsin*price_per_shot)+task_price"
   ]
  },
  {
   "cell_type": "code",
   "execution_count": 84,
   "metadata": {},
   "outputs": [
    {
     "name": "stdout",
     "output_type": "stream",
     "text": [
      "The optimal value with alpha 1.0: -0.2558995449738859\n",
      "The optimal value with alpha 0.5: -0.25553763310614386\n",
      "The optimal value with alpha 0.25: -0.2563296633540517\n",
      "The optimal value with alpha 0.3: -0.2548438013733403\n",
      "The optimal value with alpha 0.4: -0.2548438013733403\n",
      "The optimal value with alpha 0.45: -0.25553763310614386\n"
     ]
    }
   ],
   "source": [
    "for alpha in alphas:\n",
    "    print('The optimal value with alpha '+str(alpha)+': '+str(results[alpha].fval))"
   ]
  },
  {
   "cell_type": "code",
   "execution_count": 85,
   "metadata": {},
   "outputs": [
    {
     "data": {
      "text/plain": [
       "161"
      ]
     },
     "execution_count": 85,
     "metadata": {},
     "output_type": "execute_result"
    }
   ],
   "source": [
    "### Circuit depth ###\n",
    "\n",
    "qc_basis.depth()"
   ]
  },
  {
   "cell_type": "code",
   "execution_count": 86,
   "metadata": {},
   "outputs": [
    {
     "name": "stdout",
     "output_type": "stream",
     "text": [
      "Optimizer time for alpha 1.0: 70.67157745361328\n",
      "Optimizer time for alpha 0.5: 64.3527410030365\n",
      "Optimizer time for alpha 0.25: 51.773109674453735\n",
      "Optimizer time for alpha 0.3: 56.2127959728241\n",
      "Optimizer time for alpha 0.4: 58.472965478897095\n",
      "Optimizer time for alpha 0.45: 54.36189842224121\n"
     ]
    }
   ],
   "source": [
    "for alpha in alphas:\n",
    "    x=results[alpha]\n",
    "    print('Optimizer time for alpha '+ str(alpha)+ ': '+ str(x.min_eigen_solver_result.optimizer_time))"
   ]
  },
  {
   "cell_type": "markdown",
   "metadata": {},
   "source": [
    "### We see the optimal values for different alphas are close, but the cost w.r.t alpha=0.25 is the least and much lower than costs for alpha 1.0 and alpha 0.5. So for this backend with noise, alpha 0.25 worked best. ###"
   ]
  },
  {
   "cell_type": "markdown",
   "metadata": {},
   "source": [
    "### FakeWashington device backend ###"
   ]
  },
  {
   "cell_type": "code",
   "execution_count": 40,
   "metadata": {},
   "outputs": [
    {
     "name": "stderr",
     "output_type": "stream",
     "text": [
      "C:\\Users\\Admin\\anaconda3\\lib\\site-packages\\qiskit\\providers\\aer\\noise\\device\\models.py:264: UserWarning: Device model returned an invalid T_2 relaxation time greater than the theoretical maximum value 2 * T_1 (260581.28986315246 > 2 * 80026.57875131005). Truncating to maximum value.\n",
      "  warn(\"Device model returned an invalid T_2 relaxation time greater than\"\n",
      "C:\\Users\\Admin\\anaconda3\\lib\\site-packages\\qiskit\\providers\\aer\\noise\\device\\models.py:264: UserWarning: Device model returned an invalid T_2 relaxation time greater than the theoretical maximum value 2 * T_1 (115349.1827351713 > 2 * 56743.169831786116). Truncating to maximum value.\n",
      "  warn(\"Device model returned an invalid T_2 relaxation time greater than\"\n",
      "C:\\Users\\Admin\\anaconda3\\lib\\site-packages\\qiskit\\providers\\aer\\noise\\device\\models.py:264: UserWarning: Device model returned an invalid T_2 relaxation time greater than the theoretical maximum value 2 * T_1 (260581.28986315246 > 2 * 80026.57875131005). Truncating to maximum value.\n",
      "  warn(\"Device model returned an invalid T_2 relaxation time greater than\"\n",
      "C:\\Users\\Admin\\anaconda3\\lib\\site-packages\\qiskit\\providers\\aer\\noise\\device\\models.py:264: UserWarning: Device model returned an invalid T_2 relaxation time greater than the theoretical maximum value 2 * T_1 (115349.1827351713 > 2 * 56743.169831786116). Truncating to maximum value.\n",
      "  warn(\"Device model returned an invalid T_2 relaxation time greater than\"\n",
      "C:\\Users\\Admin\\anaconda3\\lib\\site-packages\\qiskit\\providers\\aer\\noise\\device\\models.py:264: UserWarning: Device model returned an invalid T_2 relaxation time greater than the theoretical maximum value 2 * T_1 (260581.28986315246 > 2 * 80026.57875131005). Truncating to maximum value.\n",
      "  warn(\"Device model returned an invalid T_2 relaxation time greater than\"\n",
      "C:\\Users\\Admin\\anaconda3\\lib\\site-packages\\qiskit\\providers\\aer\\noise\\device\\models.py:264: UserWarning: Device model returned an invalid T_2 relaxation time greater than the theoretical maximum value 2 * T_1 (115349.1827351713 > 2 * 56743.169831786116). Truncating to maximum value.\n",
      "  warn(\"Device model returned an invalid T_2 relaxation time greater than\"\n",
      "C:\\Users\\Admin\\anaconda3\\lib\\site-packages\\qiskit\\providers\\aer\\noise\\device\\models.py:264: UserWarning: Device model returned an invalid T_2 relaxation time greater than the theoretical maximum value 2 * T_1 (115349.1827351713 > 2 * 56743.169831786116). Truncating to maximum value.\n",
      "  warn(\"Device model returned an invalid T_2 relaxation time greater than\"\n",
      "C:\\Users\\Admin\\anaconda3\\lib\\site-packages\\qiskit\\providers\\aer\\noise\\device\\models.py:264: UserWarning: Device model returned an invalid T_2 relaxation time greater than the theoretical maximum value 2 * T_1 (115349.1827351713 > 2 * 56743.169831786116). Truncating to maximum value.\n",
      "  warn(\"Device model returned an invalid T_2 relaxation time greater than\"\n",
      "C:\\Users\\Admin\\anaconda3\\lib\\site-packages\\qiskit\\providers\\aer\\noise\\device\\models.py:264: UserWarning: Device model returned an invalid T_2 relaxation time greater than the theoretical maximum value 2 * T_1 (260581.28986315246 > 2 * 80026.57875131005). Truncating to maximum value.\n",
      "  warn(\"Device model returned an invalid T_2 relaxation time greater than\"\n",
      "C:\\Users\\Admin\\anaconda3\\lib\\site-packages\\qiskit\\providers\\aer\\noise\\device\\models.py:264: UserWarning: Device model returned an invalid T_2 relaxation time greater than the theoretical maximum value 2 * T_1 (260581.28986315246 > 2 * 80026.57875131005). Truncating to maximum value.\n",
      "  warn(\"Device model returned an invalid T_2 relaxation time greater than\"\n",
      "C:\\Users\\Admin\\anaconda3\\lib\\site-packages\\qiskit\\providers\\aer\\noise\\device\\models.py:264: UserWarning: Device model returned an invalid T_2 relaxation time greater than the theoretical maximum value 2 * T_1 (115349.1827351713 > 2 * 56743.169831786116). Truncating to maximum value.\n",
      "  warn(\"Device model returned an invalid T_2 relaxation time greater than\"\n",
      "C:\\Users\\Admin\\anaconda3\\lib\\site-packages\\qiskit\\providers\\aer\\noise\\device\\models.py:264: UserWarning: Device model returned an invalid T_2 relaxation time greater than the theoretical maximum value 2 * T_1 (115349.1827351713 > 2 * 56743.169831786116). Truncating to maximum value.\n",
      "  warn(\"Device model returned an invalid T_2 relaxation time greater than\"\n",
      "C:\\Users\\Admin\\anaconda3\\lib\\site-packages\\qiskit\\providers\\aer\\noise\\device\\models.py:264: UserWarning: Device model returned an invalid T_2 relaxation time greater than the theoretical maximum value 2 * T_1 (115349.1827351713 > 2 * 56743.169831786116). Truncating to maximum value.\n",
      "  warn(\"Device model returned an invalid T_2 relaxation time greater than\"\n",
      "C:\\Users\\Admin\\anaconda3\\lib\\site-packages\\qiskit\\providers\\aer\\noise\\device\\models.py:264: UserWarning: Device model returned an invalid T_2 relaxation time greater than the theoretical maximum value 2 * T_1 (115349.1827351713 > 2 * 56743.169831786116). Truncating to maximum value.\n",
      "  warn(\"Device model returned an invalid T_2 relaxation time greater than\"\n",
      "C:\\Users\\Admin\\anaconda3\\lib\\site-packages\\qiskit\\providers\\aer\\noise\\device\\models.py:264: UserWarning: Device model returned an invalid T_2 relaxation time greater than the theoretical maximum value 2 * T_1 (260581.28986315246 > 2 * 80026.57875131005). Truncating to maximum value.\n",
      "  warn(\"Device model returned an invalid T_2 relaxation time greater than\"\n",
      "C:\\Users\\Admin\\anaconda3\\lib\\site-packages\\qiskit\\providers\\aer\\noise\\device\\models.py:264: UserWarning: Device model returned an invalid T_2 relaxation time greater than the theoretical maximum value 2 * T_1 (260581.28986315246 > 2 * 80026.57875131005). Truncating to maximum value.\n",
      "  warn(\"Device model returned an invalid T_2 relaxation time greater than\"\n",
      "Device reported a gate error parameter greater than maximum allowed value (1.000000 > 0.800000). Truncating to maximum value.\n",
      "Device model returned a depolarizing error parameter greater than maximum allowed value (1.068012 > 1.066667). Truncating to maximum value.\n",
      "Device reported a gate error parameter greater than maximum allowed value (1.000000 > 0.800000). Truncating to maximum value.\n",
      "Device model returned a depolarizing error parameter greater than maximum allowed value (1.068054 > 1.066667). Truncating to maximum value.\n",
      "Device reported a gate error parameter greater than maximum allowed value (1.000000 > 0.800000). Truncating to maximum value.\n",
      "Device model returned a depolarizing error parameter greater than maximum allowed value (1.067122 > 1.066667). Truncating to maximum value.\n",
      "Device reported a gate error parameter greater than maximum allowed value (1.000000 > 0.800000). Truncating to maximum value.\n",
      "Device model returned a depolarizing error parameter greater than maximum allowed value (1.067160 > 1.066667). Truncating to maximum value.\n",
      "Device reported a gate error parameter greater than maximum allowed value (1.000000 > 0.800000). Truncating to maximum value.\n",
      "Device model returned a depolarizing error parameter greater than maximum allowed value (1.067043 > 1.066667). Truncating to maximum value.\n",
      "Device reported a gate error parameter greater than maximum allowed value (1.000000 > 0.800000). Truncating to maximum value.\n",
      "Device model returned a depolarizing error parameter greater than maximum allowed value (1.067081 > 1.066667). Truncating to maximum value.\n",
      "C:\\Users\\Admin\\anaconda3\\lib\\site-packages\\qiskit\\providers\\aer\\noise\\device\\models.py:264: UserWarning: Device model returned an invalid T_2 relaxation time greater than the theoretical maximum value 2 * T_1 (260581.28986315246 > 2 * 80026.57875131005). Truncating to maximum value.\n",
      "  warn(\"Device model returned an invalid T_2 relaxation time greater than\"\n",
      "C:\\Users\\Admin\\anaconda3\\lib\\site-packages\\qiskit\\providers\\aer\\noise\\device\\models.py:264: UserWarning: Device model returned an invalid T_2 relaxation time greater than the theoretical maximum value 2 * T_1 (115349.1827351713 > 2 * 56743.169831786116). Truncating to maximum value.\n",
      "  warn(\"Device model returned an invalid T_2 relaxation time greater than\"\n",
      "C:\\Users\\Admin\\anaconda3\\lib\\site-packages\\qiskit\\providers\\aer\\noise\\device\\models.py:264: UserWarning: Device model returned an invalid T_2 relaxation time greater than the theoretical maximum value 2 * T_1 (0.00026058128986315243 > 2 * 8.002657875131006e-05). Truncating to maximum value.\n",
      "  warn(\"Device model returned an invalid T_2 relaxation time greater than\"\n",
      "C:\\Users\\Admin\\anaconda3\\lib\\site-packages\\qiskit\\providers\\aer\\noise\\device\\models.py:264: UserWarning: Device model returned an invalid T_2 relaxation time greater than the theoretical maximum value 2 * T_1 (0.0001153491827351713 > 2 * 5.674316983178612e-05). Truncating to maximum value.\n",
      "  warn(\"Device model returned an invalid T_2 relaxation time greater than\"\n",
      "C:\\Users\\Admin\\anaconda3\\lib\\site-packages\\qiskit\\providers\\aer\\noise\\device\\models.py:264: UserWarning: Device model returned an invalid T_2 relaxation time greater than the theoretical maximum value 2 * T_1 (260581.28986315246 > 2 * 80026.57875131005). Truncating to maximum value.\n",
      "  warn(\"Device model returned an invalid T_2 relaxation time greater than\"\n"
     ]
    },
    {
     "name": "stderr",
     "output_type": "stream",
     "text": [
      "C:\\Users\\Admin\\anaconda3\\lib\\site-packages\\qiskit\\providers\\aer\\noise\\device\\models.py:264: UserWarning: Device model returned an invalid T_2 relaxation time greater than the theoretical maximum value 2 * T_1 (115349.1827351713 > 2 * 56743.169831786116). Truncating to maximum value.\n",
      "  warn(\"Device model returned an invalid T_2 relaxation time greater than\"\n",
      "C:\\Users\\Admin\\anaconda3\\lib\\site-packages\\qiskit\\providers\\aer\\noise\\device\\models.py:264: UserWarning: Device model returned an invalid T_2 relaxation time greater than the theoretical maximum value 2 * T_1 (260581.28986315246 > 2 * 80026.57875131005). Truncating to maximum value.\n",
      "  warn(\"Device model returned an invalid T_2 relaxation time greater than\"\n",
      "C:\\Users\\Admin\\anaconda3\\lib\\site-packages\\qiskit\\providers\\aer\\noise\\device\\models.py:264: UserWarning: Device model returned an invalid T_2 relaxation time greater than the theoretical maximum value 2 * T_1 (115349.1827351713 > 2 * 56743.169831786116). Truncating to maximum value.\n",
      "  warn(\"Device model returned an invalid T_2 relaxation time greater than\"\n",
      "C:\\Users\\Admin\\anaconda3\\lib\\site-packages\\qiskit\\providers\\aer\\noise\\device\\models.py:264: UserWarning: Device model returned an invalid T_2 relaxation time greater than the theoretical maximum value 2 * T_1 (260581.28986315246 > 2 * 80026.57875131005). Truncating to maximum value.\n",
      "  warn(\"Device model returned an invalid T_2 relaxation time greater than\"\n",
      "C:\\Users\\Admin\\anaconda3\\lib\\site-packages\\qiskit\\providers\\aer\\noise\\device\\models.py:264: UserWarning: Device model returned an invalid T_2 relaxation time greater than the theoretical maximum value 2 * T_1 (115349.1827351713 > 2 * 56743.169831786116). Truncating to maximum value.\n",
      "  warn(\"Device model returned an invalid T_2 relaxation time greater than\"\n",
      "C:\\Users\\Admin\\anaconda3\\lib\\site-packages\\qiskit\\providers\\aer\\noise\\device\\models.py:264: UserWarning: Device model returned an invalid T_2 relaxation time greater than the theoretical maximum value 2 * T_1 (115349.1827351713 > 2 * 56743.169831786116). Truncating to maximum value.\n",
      "  warn(\"Device model returned an invalid T_2 relaxation time greater than\"\n",
      "C:\\Users\\Admin\\anaconda3\\lib\\site-packages\\qiskit\\providers\\aer\\noise\\device\\models.py:264: UserWarning: Device model returned an invalid T_2 relaxation time greater than the theoretical maximum value 2 * T_1 (115349.1827351713 > 2 * 56743.169831786116). Truncating to maximum value.\n",
      "  warn(\"Device model returned an invalid T_2 relaxation time greater than\"\n",
      "C:\\Users\\Admin\\anaconda3\\lib\\site-packages\\qiskit\\providers\\aer\\noise\\device\\models.py:264: UserWarning: Device model returned an invalid T_2 relaxation time greater than the theoretical maximum value 2 * T_1 (260581.28986315246 > 2 * 80026.57875131005). Truncating to maximum value.\n",
      "  warn(\"Device model returned an invalid T_2 relaxation time greater than\"\n",
      "C:\\Users\\Admin\\anaconda3\\lib\\site-packages\\qiskit\\providers\\aer\\noise\\device\\models.py:264: UserWarning: Device model returned an invalid T_2 relaxation time greater than the theoretical maximum value 2 * T_1 (260581.28986315246 > 2 * 80026.57875131005). Truncating to maximum value.\n",
      "  warn(\"Device model returned an invalid T_2 relaxation time greater than\"\n",
      "C:\\Users\\Admin\\anaconda3\\lib\\site-packages\\qiskit\\providers\\aer\\noise\\device\\models.py:264: UserWarning: Device model returned an invalid T_2 relaxation time greater than the theoretical maximum value 2 * T_1 (115349.1827351713 > 2 * 56743.169831786116). Truncating to maximum value.\n",
      "  warn(\"Device model returned an invalid T_2 relaxation time greater than\"\n",
      "C:\\Users\\Admin\\anaconda3\\lib\\site-packages\\qiskit\\providers\\aer\\noise\\device\\models.py:264: UserWarning: Device model returned an invalid T_2 relaxation time greater than the theoretical maximum value 2 * T_1 (115349.1827351713 > 2 * 56743.169831786116). Truncating to maximum value.\n",
      "  warn(\"Device model returned an invalid T_2 relaxation time greater than\"\n",
      "C:\\Users\\Admin\\anaconda3\\lib\\site-packages\\qiskit\\providers\\aer\\noise\\device\\models.py:264: UserWarning: Device model returned an invalid T_2 relaxation time greater than the theoretical maximum value 2 * T_1 (115349.1827351713 > 2 * 56743.169831786116). Truncating to maximum value.\n",
      "  warn(\"Device model returned an invalid T_2 relaxation time greater than\"\n",
      "C:\\Users\\Admin\\anaconda3\\lib\\site-packages\\qiskit\\providers\\aer\\noise\\device\\models.py:264: UserWarning: Device model returned an invalid T_2 relaxation time greater than the theoretical maximum value 2 * T_1 (115349.1827351713 > 2 * 56743.169831786116). Truncating to maximum value.\n",
      "  warn(\"Device model returned an invalid T_2 relaxation time greater than\"\n",
      "C:\\Users\\Admin\\anaconda3\\lib\\site-packages\\qiskit\\providers\\aer\\noise\\device\\models.py:264: UserWarning: Device model returned an invalid T_2 relaxation time greater than the theoretical maximum value 2 * T_1 (260581.28986315246 > 2 * 80026.57875131005). Truncating to maximum value.\n",
      "  warn(\"Device model returned an invalid T_2 relaxation time greater than\"\n",
      "C:\\Users\\Admin\\anaconda3\\lib\\site-packages\\qiskit\\providers\\aer\\noise\\device\\models.py:264: UserWarning: Device model returned an invalid T_2 relaxation time greater than the theoretical maximum value 2 * T_1 (260581.28986315246 > 2 * 80026.57875131005). Truncating to maximum value.\n",
      "  warn(\"Device model returned an invalid T_2 relaxation time greater than\"\n",
      "Device reported a gate error parameter greater than maximum allowed value (1.000000 > 0.800000). Truncating to maximum value.\n",
      "Device model returned a depolarizing error parameter greater than maximum allowed value (1.068012 > 1.066667). Truncating to maximum value.\n",
      "Device reported a gate error parameter greater than maximum allowed value (1.000000 > 0.800000). Truncating to maximum value.\n",
      "Device model returned a depolarizing error parameter greater than maximum allowed value (1.068054 > 1.066667). Truncating to maximum value.\n",
      "Device reported a gate error parameter greater than maximum allowed value (1.000000 > 0.800000). Truncating to maximum value.\n",
      "Device model returned a depolarizing error parameter greater than maximum allowed value (1.067122 > 1.066667). Truncating to maximum value.\n",
      "Device reported a gate error parameter greater than maximum allowed value (1.000000 > 0.800000). Truncating to maximum value.\n",
      "Device model returned a depolarizing error parameter greater than maximum allowed value (1.067160 > 1.066667). Truncating to maximum value.\n",
      "Device reported a gate error parameter greater than maximum allowed value (1.000000 > 0.800000). Truncating to maximum value.\n",
      "Device model returned a depolarizing error parameter greater than maximum allowed value (1.067043 > 1.066667). Truncating to maximum value.\n",
      "Device reported a gate error parameter greater than maximum allowed value (1.000000 > 0.800000). Truncating to maximum value.\n",
      "Device model returned a depolarizing error parameter greater than maximum allowed value (1.067081 > 1.066667). Truncating to maximum value.\n",
      "C:\\Users\\Admin\\anaconda3\\lib\\site-packages\\qiskit\\providers\\aer\\noise\\device\\models.py:264: UserWarning: Device model returned an invalid T_2 relaxation time greater than the theoretical maximum value 2 * T_1 (260581.28986315246 > 2 * 80026.57875131005). Truncating to maximum value.\n",
      "  warn(\"Device model returned an invalid T_2 relaxation time greater than\"\n",
      "C:\\Users\\Admin\\anaconda3\\lib\\site-packages\\qiskit\\providers\\aer\\noise\\device\\models.py:264: UserWarning: Device model returned an invalid T_2 relaxation time greater than the theoretical maximum value 2 * T_1 (115349.1827351713 > 2 * 56743.169831786116). Truncating to maximum value.\n",
      "  warn(\"Device model returned an invalid T_2 relaxation time greater than\"\n"
     ]
    },
    {
     "name": "stdout",
     "output_type": "stream",
     "text": [
      "NoiseModel:\n",
      "  Basis gates: ['cx', 'id', 'kraus', 'qerror_loc', 'quantum_channel', 'roerror', 'rz', 'save_amplitudes', 'save_amplitudes_sq', 'save_clifford', 'save_density_matrix', 'save_expval', 'save_expval_var', 'save_matrix_product_state', 'save_probabilities', 'save_probabilities_dict', 'save_stabilizer', 'save_state', 'save_statevector', 'save_statevector_dict', 'save_superop', 'save_unitary', 'set_density_matrix', 'set_matrix_product_state', 'set_stabilizer', 'set_statevector', 'set_superop', 'set_unitary', 'snapshot', 'superop', 'sx', 'x']\n",
      "  Instructions with noise: ['x', 'measure', 'cx', 'sx', 'reset', 'id']\n",
      "  Qubits with noise: [0, 1, 2, 3, 4, 5, 6, 7, 8, 9, 10, 11, 12, 13, 14, 15, 16, 17, 18, 19, 20, 21, 22, 23, 24, 25, 26, 27, 28, 29, 30, 31, 32, 33, 34, 35, 36, 37, 38, 39, 40, 41, 42, 43, 44, 45, 46, 47, 48, 49, 50, 51, 52, 53, 54, 55, 56, 57, 58, 59, 60, 61, 62, 63, 64, 65, 66, 67, 68, 69, 70, 71, 72, 73, 74, 75, 76, 77, 78, 79, 80, 81, 82, 83, 84, 85, 86, 87, 88, 89, 90, 91, 92, 93, 94, 95, 96, 97, 98, 99, 100, 101, 102, 103, 104, 105, 106, 107, 108, 109, 110, 111, 112, 113, 114, 115, 116, 117, 118, 119, 120, 121, 122, 123, 124, 125, 126]\n",
      "  Specific qubit errors: [('id', (0,)), ('id', (1,)), ('id', (2,)), ('id', (3,)), ('id', (4,)), ('id', (5,)), ('id', (6,)), ('id', (7,)), ('id', (8,)), ('id', (9,)), ('id', (10,)), ('id', (11,)), ('id', (12,)), ('id', (13,)), ('id', (14,)), ('id', (15,)), ('id', (16,)), ('id', (17,)), ('id', (18,)), ('id', (19,)), ('id', (20,)), ('id', (21,)), ('id', (22,)), ('id', (23,)), ('id', (24,)), ('id', (25,)), ('id', (26,)), ('id', (27,)), ('id', (28,)), ('id', (29,)), ('id', (30,)), ('id', (31,)), ('id', (32,)), ('id', (33,)), ('id', (34,)), ('id', (35,)), ('id', (36,)), ('id', (37,)), ('id', (38,)), ('id', (39,)), ('id', (40,)), ('id', (41,)), ('id', (42,)), ('id', (43,)), ('id', (44,)), ('id', (45,)), ('id', (46,)), ('id', (47,)), ('id', (48,)), ('id', (49,)), ('id', (50,)), ('id', (51,)), ('id', (52,)), ('id', (53,)), ('id', (54,)), ('id', (55,)), ('id', (56,)), ('id', (57,)), ('id', (58,)), ('id', (59,)), ('id', (60,)), ('id', (61,)), ('id', (62,)), ('id', (63,)), ('id', (64,)), ('id', (65,)), ('id', (66,)), ('id', (67,)), ('id', (68,)), ('id', (69,)), ('id', (70,)), ('id', (71,)), ('id', (72,)), ('id', (73,)), ('id', (74,)), ('id', (75,)), ('id', (76,)), ('id', (77,)), ('id', (78,)), ('id', (79,)), ('id', (80,)), ('id', (81,)), ('id', (82,)), ('id', (83,)), ('id', (84,)), ('id', (85,)), ('id', (86,)), ('id', (87,)), ('id', (88,)), ('id', (89,)), ('id', (90,)), ('id', (91,)), ('id', (92,)), ('id', (93,)), ('id', (94,)), ('id', (95,)), ('id', (96,)), ('id', (97,)), ('id', (98,)), ('id', (99,)), ('id', (100,)), ('id', (101,)), ('id', (102,)), ('id', (103,)), ('id', (104,)), ('id', (105,)), ('id', (106,)), ('id', (107,)), ('id', (108,)), ('id', (109,)), ('id', (110,)), ('id', (111,)), ('id', (112,)), ('id', (113,)), ('id', (114,)), ('id', (115,)), ('id', (116,)), ('id', (117,)), ('id', (118,)), ('id', (119,)), ('id', (120,)), ('id', (121,)), ('id', (122,)), ('id', (123,)), ('id', (124,)), ('id', (125,)), ('id', (126,)), ('sx', (0,)), ('sx', (1,)), ('sx', (2,)), ('sx', (3,)), ('sx', (4,)), ('sx', (5,)), ('sx', (6,)), ('sx', (7,)), ('sx', (8,)), ('sx', (9,)), ('sx', (10,)), ('sx', (11,)), ('sx', (12,)), ('sx', (13,)), ('sx', (14,)), ('sx', (15,)), ('sx', (16,)), ('sx', (17,)), ('sx', (18,)), ('sx', (19,)), ('sx', (20,)), ('sx', (21,)), ('sx', (22,)), ('sx', (23,)), ('sx', (24,)), ('sx', (25,)), ('sx', (26,)), ('sx', (27,)), ('sx', (28,)), ('sx', (29,)), ('sx', (30,)), ('sx', (31,)), ('sx', (32,)), ('sx', (33,)), ('sx', (34,)), ('sx', (35,)), ('sx', (36,)), ('sx', (37,)), ('sx', (38,)), ('sx', (39,)), ('sx', (40,)), ('sx', (41,)), ('sx', (42,)), ('sx', (43,)), ('sx', (44,)), ('sx', (45,)), ('sx', (46,)), ('sx', (47,)), ('sx', (48,)), ('sx', (49,)), ('sx', (50,)), ('sx', (51,)), ('sx', (52,)), ('sx', (53,)), ('sx', (54,)), ('sx', (55,)), ('sx', (56,)), ('sx', (57,)), ('sx', (58,)), ('sx', (59,)), ('sx', (60,)), ('sx', (61,)), ('sx', (62,)), ('sx', (63,)), ('sx', (64,)), ('sx', (65,)), ('sx', (66,)), ('sx', (67,)), ('sx', (68,)), ('sx', (69,)), ('sx', (70,)), ('sx', (71,)), ('sx', (72,)), ('sx', (73,)), ('sx', (74,)), ('sx', (75,)), ('sx', (76,)), ('sx', (77,)), ('sx', (78,)), ('sx', (79,)), ('sx', (80,)), ('sx', (81,)), ('sx', (82,)), ('sx', (83,)), ('sx', (84,)), ('sx', (85,)), ('sx', (86,)), ('sx', (87,)), ('sx', (88,)), ('sx', (89,)), ('sx', (90,)), ('sx', (91,)), ('sx', (92,)), ('sx', (93,)), ('sx', (94,)), ('sx', (95,)), ('sx', (96,)), ('sx', (97,)), ('sx', (98,)), ('sx', (99,)), ('sx', (100,)), ('sx', (101,)), ('sx', (102,)), ('sx', (103,)), ('sx', (104,)), ('sx', (105,)), ('sx', (106,)), ('sx', (107,)), ('sx', (108,)), ('sx', (109,)), ('sx', (110,)), ('sx', (111,)), ('sx', (112,)), ('sx', (113,)), ('sx', (114,)), ('sx', (115,)), ('sx', (116,)), ('sx', (117,)), ('sx', (118,)), ('sx', (119,)), ('sx', (120,)), ('sx', (121,)), ('sx', (122,)), ('sx', (123,)), ('sx', (124,)), ('sx', (125,)), ('sx', (126,)), ('x', (0,)), ('x', (1,)), ('x', (2,)), ('x', (3,)), ('x', (4,)), ('x', (5,)), ('x', (6,)), ('x', (7,)), ('x', (8,)), ('x', (9,)), ('x', (10,)), ('x', (11,)), ('x', (12,)), ('x', (13,)), ('x', (14,)), ('x', (15,)), ('x', (16,)), ('x', (17,)), ('x', (18,)), ('x', (19,)), ('x', (20,)), ('x', (21,)), ('x', (22,)), ('x', (23,)), ('x', (24,)), ('x', (25,)), ('x', (26,)), ('x', (27,)), ('x', (28,)), ('x', (29,)), ('x', (30,)), ('x', (31,)), ('x', (32,)), ('x', (33,)), ('x', (34,)), ('x', (35,)), ('x', (36,)), ('x', (37,)), ('x', (38,)), ('x', (39,)), ('x', (40,)), ('x', (41,)), ('x', (42,)), ('x', (43,)), ('x', (44,)), ('x', (45,)), ('x', (46,)), ('x', (47,)), ('x', (48,)), ('x', (49,)), ('x', (50,)), ('x', (51,)), ('x', (52,)), ('x', (53,)), ('x', (54,)), ('x', (55,)), ('x', (56,)), ('x', (57,)), ('x', (58,)), ('x', (59,)), ('x', (60,)), ('x', (61,)), ('x', (62,)), ('x', (63,)), ('x', (64,)), ('x', (65,)), ('x', (66,)), ('x', (67,)), ('x', (68,)), ('x', (69,)), ('x', (70,)), ('x', (71,)), ('x', (72,)), ('x', (73,)), ('x', (74,)), ('x', (75,)), ('x', (76,)), ('x', (77,)), ('x', (78,)), ('x', (79,)), ('x', (80,)), ('x', (81,)), ('x', (82,)), ('x', (83,)), ('x', (84,)), ('x', (85,)), ('x', (86,)), ('x', (87,)), ('x', (88,)), ('x', (89,)), ('x', (90,)), ('x', (91,)), ('x', (92,)), ('x', (93,)), ('x', (94,)), ('x', (95,)), ('x', (96,)), ('x', (97,)), ('x', (98,)), ('x', (99,)), ('x', (100,)), ('x', (101,)), ('x', (102,)), ('x', (103,)), ('x', (104,)), ('x', (105,)), ('x', (106,)), ('x', (107,)), ('x', (108,)), ('x', (109,)), ('x', (110,)), ('x', (111,)), ('x', (112,)), ('x', (113,)), ('x', (114,)), ('x', (115,)), ('x', (116,)), ('x', (117,)), ('x', (118,)), ('x', (119,)), ('x', (120,)), ('x', (121,)), ('x', (122,)), ('x', (123,)), ('x', (124,)), ('x', (125,)), ('x', (126,)), ('cx', (72, 62)), ('cx', (62, 72)), ('cx', (77, 71)), ('cx', (71, 77)), ('cx', (71, 58)), ('cx', (58, 71)), ('cx', (85, 73)), ('cx', (73, 85)), ('cx', (60, 61)), ('cx', (61, 60)), ('cx', (83, 84)), ('cx', (84, 83)), ('cx', (93, 106)), ('cx', (106, 93)), ('cx', (60, 59)), ('cx', (59, 60)), ('cx', (68, 69)), ('cx', (69, 68)), ('cx', (85, 86)), ('cx', (86, 85)), ('cx', (111, 104)), ('cx', (104, 111)), ('cx', (41, 53)), ('cx', (53, 41)), ('cx', (68, 67)), ('cx', (67, 68)), ('cx', (39, 33)), ('cx', (33, 39)), ('cx', (51, 50)), ('cx', (50, 51)), ('cx', (95, 94)), ('cx', (94, 95)), ('cx', (103, 102)), ('cx', (102, 103)), ('cx', (34, 24)), ('cx', (24, 34)), ('cx', (46, 47)), ('cx', (47, 46)), ('cx', (110, 100)), ('cx', (100, 110)), ('cx', (26, 25)), ('cx', (25, 26)), ('cx', (31, 30)), ('cx', (30, 31)), ('cx', (59, 58)), ('cx', (58, 59)), ('cx', (64, 63)), ('cx', (63, 64)), ('cx', (68, 55)), ('cx', (55, 68)), ('cx', (85, 84)), ('cx', (84, 85)), ('cx', (101, 100)), ('cx', (100, 101)), ('cx', (107, 106)), ('cx', (106, 107)), ('cx', (121, 120)), ('cx', (120, 121)), ('cx', (23, 24)), ('cx', (24, 23)), ('cx', (46, 45)), ('cx', (45, 46)), ('cx', (99, 100)), ('cx', (100, 99)), ('cx', (122, 121)), ('cx', (121, 122)), ('cx', (23, 22)), ('cx', (22, 23)), ('cx', (50, 49)), ('cx', (49, 50)), ('cx', (82, 81)), ('cx', (81, 82)), ('cx', (103, 104)), ('cx', (104, 103)), ('cx', (21, 22)), ('cx', (22, 21)), ('cx', (61, 62)), ('cx', (62, 61)), ('cx', (124, 123)), ('cx', (123, 124)), ('cx', (15, 22)), ('cx', (22, 15)), ('cx', (44, 45)), ('cx', (45, 44)), ('cx', (113, 114)), ('cx', (114, 113)), ('cx', (15, 4)), ('cx', (4, 15)), ('cx', (78, 79)), ('cx', (79, 78)), ('cx', (104, 105)), ('cx', (105, 104)), ('cx', (125, 124)), ('cx', (124, 125)), ('cx', (12, 11)), ('cx', (11, 12)), ('cx', (34, 43)), ('cx', (43, 34)), ('cx', (35, 28)), ('cx', (28, 35)), ('cx', (119, 120)), ('cx', (120, 119)), ('cx', (14, 0)), ('cx', (0, 14)), ('cx', (28, 29)), ('cx', (29, 28)), ('cx', (38, 39)), ('cx', (39, 38)), ('cx', (49, 55)), ('cx', (55, 49)), ('cx', (57, 58)), ('cx', (58, 57)), ('cx', (82, 83)), ('cx', (83, 82)), ('cx', (91, 98)), ('cx', (98, 91)), ('cx', (93, 87)), ('cx', (87, 93)), ('cx', (117, 118)), ('cx', (118, 117)), ('cx', (126, 125)), ('cx', (125, 126)), ('cx', (8, 16)), ('cx', (16, 8)), ('cx', (17, 30)), ('cx', (30, 17)), ('cx', (33, 20)), ('cx', (20, 33)), ('cx', (44, 43)), ('cx', (43, 44)), ('cx', (49, 48)), ('cx', (48, 49)), ('cx', (57, 56)), ('cx', (56, 57)), ('cx', (66, 73)), ('cx', (73, 66)), ('cx', (72, 81)), ('cx', (81, 72)), ('cx', (89, 74)), ('cx', (74, 89)), ('cx', (90, 94)), ('cx', (94, 90)), ('cx', (99, 98)), ('cx', (98, 99)), ('cx', (106, 105)), ('cx', (105, 106)), ('cx', (115, 116)), ('cx', (116, 115)), ('cx', (7, 6)), ('cx', (6, 7)), ('cx', (13, 12)), ('cx', (12, 13)), ('cx', (19, 18)), ('cx', (18, 19)), ('cx', (25, 24)), ('cx', (24, 25)), ('cx', (35, 47)), ('cx', (47, 35)), ('cx', (38, 37)), ('cx', (37, 38)), ('cx', (51, 36)), ('cx', (36, 51)), ('cx', (53, 60)), ('cx', (60, 53)), ('cx', (65, 66)), ('cx', (66, 65)), ('cx', (87, 88)), ('cx', (88, 87)), ('cx', (90, 75)), ('cx', (75, 90)), ('cx', (91, 79)), ('cx', (79, 91)), ('cx', (92, 83)), ('cx', (83, 92)), ('cx', (110, 118)), ('cx', (118, 110)), ('cx', (111, 122)), ('cx', (122, 111)), ('cx', (112, 126)), ('cx', (126, 112)), ('cx', (6, 5)), ('cx', (5, 6)), ('cx', (11, 10)), ('cx', (10, 11)), ('cx', (14, 18)), ('cx', (18, 14)), ('cx', (27, 26)), ('cx', (26, 27)), ('cx', (32, 36)), ('cx', (36, 32)), ('cx', (40, 41)), ('cx', (41, 40)), ('cx', (64, 54)), ('cx', (54, 64)), ('cx', (77, 76)), ('cx', (76, 77)), ('cx', (96, 97)), ('cx', (97, 96)), ('cx', (101, 102)), ('cx', (102, 101)), ('cx', (5, 4)), ('cx', (4, 5)), ('cx', (27, 28)), ('cx', (28, 27)), ('cx', (52, 37)), ('cx', (37, 52)), ('cx', (66, 67)), ('cx', (67, 66)), ('cx', (78, 77)), ('cx', (77, 78)), ('cx', (3, 4)), ('cx', (4, 3)), ('cx', (41, 42)), ('cx', (42, 41)), ('cx', (56, 52)), ('cx', (52, 56)), ('cx', (62, 63)), ('cx', (63, 62)), ('cx', (88, 89)), ('cx', (89, 88)), ('cx', (92, 102)), ('cx', (102, 92)), ('cx', (108, 107)), ('cx', (107, 108)), ('cx', (2, 3)), ('cx', (3, 2)), ('cx', (7, 8)), ('cx', (8, 7)), ('cx', (29, 30)), ('cx', (30, 29)), ('cx', (40, 39)), ('cx', (39, 40)), ('cx', (54, 45)), ('cx', (45, 54)), ('cx', (80, 81)), ('cx', (81, 80)), ('cx', (87, 86)), ('cx', (86, 87)), ('cx', (108, 112)), ('cx', (112, 108)), ('cx', (115, 114)), ('cx', (114, 115)), ('cx', (122, 123)), ('cx', (123, 122)), ('cx', (1, 2)), ('cx', (2, 1)), ('cx', (19, 20)), ('cx', (20, 19)), ('cx', (26, 16)), ('cx', (16, 26)), ('cx', (32, 31)), ('cx', (31, 32)), ('cx', (47, 48)), ('cx', (48, 47)), ('cx', (70, 69)), ('cx', (69, 70)), ('cx', (80, 79)), ('cx', (79, 80)), ('cx', (95, 96)), ('cx', (96, 95)), ('cx', (117, 116)), ('cx', (116, 117)), ('cx', (1, 0)), ('cx', (0, 1)), ('cx', (20, 21)), ('cx', (21, 20)), ('cx', (42, 43)), ('cx', (43, 42)), ('cx', (65, 64)), ('cx', (64, 65)), ('cx', (70, 74)), ('cx', (74, 70)), ('cx', (76, 75)), ('cx', (75, 76)), ('cx', (97, 98)), ('cx', (98, 97)), ('cx', (119, 118)), ('cx', (118, 119)), ('cx', (17, 12)), ('cx', (12, 17)), ('cx', (9, 10)), ('cx', (10, 9)), ('cx', (96, 109)), ('cx', (109, 96)), ('reset', (0,)), ('reset', (1,)), ('reset', (2,)), ('reset', (3,)), ('reset', (4,)), ('reset', (5,)), ('reset', (6,)), ('reset', (7,)), ('reset', (8,)), ('reset', (9,)), ('reset', (10,)), ('reset', (11,)), ('reset', (12,)), ('reset', (13,)), ('reset', (14,)), ('reset', (15,)), ('reset', (16,)), ('reset', (17,)), ('reset', (18,)), ('reset', (19,)), ('reset', (20,)), ('reset', (21,)), ('reset', (22,)), ('reset', (23,)), ('reset', (24,)), ('reset', (25,)), ('reset', (26,)), ('reset', (27,)), ('reset', (28,)), ('reset', (29,)), ('reset', (30,)), ('reset', (31,)), ('reset', (32,)), ('reset', (33,)), ('reset', (34,)), ('reset', (35,)), ('reset', (36,)), ('reset', (37,)), ('reset', (38,)), ('reset', (39,)), ('reset', (40,)), ('reset', (41,)), ('reset', (42,)), ('reset', (43,)), ('reset', (44,)), ('reset', (45,)), ('reset', (46,)), ('reset', (47,)), ('reset', (48,)), ('reset', (49,)), ('reset', (50,)), ('reset', (51,)), ('reset', (52,)), ('reset', (53,)), ('reset', (54,)), ('reset', (55,)), ('reset', (56,)), ('reset', (57,)), ('reset', (58,)), ('reset', (59,)), ('reset', (60,)), ('reset', (61,)), ('reset', (62,)), ('reset', (63,)), ('reset', (64,)), ('reset', (65,)), ('reset', (66,)), ('reset', (67,)), ('reset', (68,)), ('reset', (69,)), ('reset', (70,)), ('reset', (71,)), ('reset', (72,)), ('reset', (73,)), ('reset', (74,)), ('reset', (75,)), ('reset', (76,)), ('reset', (77,)), ('reset', (78,)), ('reset', (79,)), ('reset', (80,)), ('reset', (81,)), ('reset', (82,)), ('reset', (83,)), ('reset', (84,)), ('reset', (85,)), ('reset', (86,)), ('reset', (87,)), ('reset', (88,)), ('reset', (89,)), ('reset', (90,)), ('reset', (91,)), ('reset', (92,)), ('reset', (93,)), ('reset', (94,)), ('reset', (95,)), ('reset', (96,)), ('reset', (97,)), ('reset', (98,)), ('reset', (99,)), ('reset', (100,)), ('reset', (101,)), ('reset', (102,)), ('reset', (103,)), ('reset', (104,)), ('reset', (105,)), ('reset', (106,)), ('reset', (107,)), ('reset', (108,)), ('reset', (109,)), ('reset', (110,)), ('reset', (111,)), ('reset', (112,)), ('reset', (113,)), ('reset', (114,)), ('reset', (115,)), ('reset', (116,)), ('reset', (117,)), ('reset', (118,)), ('reset', (119,)), ('reset', (120,)), ('reset', (121,)), ('reset', (122,)), ('reset', (123,)), ('reset', (124,)), ('reset', (125,)), ('reset', (126,)), ('measure', (0,)), ('measure', (1,)), ('measure', (2,)), ('measure', (3,)), ('measure', (4,)), ('measure', (5,)), ('measure', (6,)), ('measure', (7,)), ('measure', (8,)), ('measure', (9,)), ('measure', (10,)), ('measure', (11,)), ('measure', (12,)), ('measure', (13,)), ('measure', (14,)), ('measure', (15,)), ('measure', (16,)), ('measure', (17,)), ('measure', (18,)), ('measure', (19,)), ('measure', (20,)), ('measure', (21,)), ('measure', (22,)), ('measure', (23,)), ('measure', (24,)), ('measure', (25,)), ('measure', (26,)), ('measure', (27,)), ('measure', (28,)), ('measure', (29,)), ('measure', (30,)), ('measure', (31,)), ('measure', (32,)), ('measure', (33,)), ('measure', (34,)), ('measure', (35,)), ('measure', (36,)), ('measure', (37,)), ('measure', (38,)), ('measure', (39,)), ('measure', (40,)), ('measure', (41,)), ('measure', (42,)), ('measure', (43,)), ('measure', (44,)), ('measure', (45,)), ('measure', (46,)), ('measure', (47,)), ('measure', (48,)), ('measure', (49,)), ('measure', (50,)), ('measure', (51,)), ('measure', (52,)), ('measure', (53,)), ('measure', (54,)), ('measure', (55,)), ('measure', (56,)), ('measure', (57,)), ('measure', (58,)), ('measure', (59,)), ('measure', (60,)), ('measure', (61,)), ('measure', (62,)), ('measure', (63,)), ('measure', (64,)), ('measure', (65,)), ('measure', (66,)), ('measure', (67,)), ('measure', (68,)), ('measure', (69,)), ('measure', (70,)), ('measure', (71,)), ('measure', (72,)), ('measure', (73,)), ('measure', (74,)), ('measure', (75,)), ('measure', (76,)), ('measure', (77,)), ('measure', (78,)), ('measure', (79,)), ('measure', (80,)), ('measure', (81,)), ('measure', (82,)), ('measure', (83,)), ('measure', (84,)), ('measure', (85,)), ('measure', (86,)), ('measure', (87,)), ('measure', (88,)), ('measure', (89,)), ('measure', (90,)), ('measure', (91,)), ('measure', (92,)), ('measure', (93,)), ('measure', (94,)), ('measure', (95,)), ('measure', (96,)), ('measure', (97,)), ('measure', (98,)), ('measure', (99,)), ('measure', (100,)), ('measure', (101,)), ('measure', (102,)), ('measure', (103,)), ('measure', (104,)), ('measure', (105,)), ('measure', (106,)), ('measure', (107,)), ('measure', (108,)), ('measure', (109,)), ('measure', (110,)), ('measure', (111,)), ('measure', (112,)), ('measure', (113,)), ('measure', (114,)), ('measure', (115,)), ('measure', (116,)), ('measure', (117,)), ('measure', (118,)), ('measure', (119,)), ('measure', (120,)), ('measure', (121,)), ('measure', (122,)), ('measure', (123,)), ('measure', (124,)), ('measure', (125,)), ('measure', (126,))]\n",
      "\n"
     ]
    },
    {
     "name": "stderr",
     "output_type": "stream",
     "text": [
      "C:\\Users\\Admin\\anaconda3\\lib\\site-packages\\qiskit\\providers\\aer\\noise\\device\\models.py:264: UserWarning: Device model returned an invalid T_2 relaxation time greater than the theoretical maximum value 2 * T_1 (0.00026058128986315243 > 2 * 8.002657875131006e-05). Truncating to maximum value.\n",
      "  warn(\"Device model returned an invalid T_2 relaxation time greater than\"\n",
      "C:\\Users\\Admin\\anaconda3\\lib\\site-packages\\qiskit\\providers\\aer\\noise\\device\\models.py:264: UserWarning: Device model returned an invalid T_2 relaxation time greater than the theoretical maximum value 2 * T_1 (0.0001153491827351713 > 2 * 5.674316983178612e-05). Truncating to maximum value.\n",
      "  warn(\"Device model returned an invalid T_2 relaxation time greater than\"\n"
     ]
    }
   ],
   "source": [
    "import os\n",
    "from qiskit.providers.aer import QasmSimulator, AerSimulator\n",
    "from qiskit.providers.aer.noise import NoiseModel\n",
    "from qiskit.providers.fake_provider import FakeWashington\n",
    "from qiskit.utils import QuantumInstance\n",
    "\n",
    "device_backend = FakeWashington()\n",
    "\n",
    "backend = Aer.get_backend('aer_simulator')\n",
    "counts1 = []\n",
    "values1 = []\n",
    "noise_model = None\n",
    "device = AerSimulator.from_backend(device_backend)\n",
    "coupling_map = device.configuration().coupling_map\n",
    "noise_model = NoiseModel.from_backend(device)\n",
    "basis_gates = noise_model.basis_gates\n",
    "\n",
    "print(noise_model)\n",
    "print()\n",
    "seed=1234\n",
    "algorithm_globals.random_seed = 1234\n",
    "qi = QuantumInstance(backend=backend, seed_simulator=seed, seed_transpiler=seed,\n",
    "                     coupling_map=coupling_map, noise_model=noise_model,shots=1024)"
   ]
  },
  {
   "cell_type": "markdown",
   "metadata": {},
   "source": [
    "### This backend shows a lot of warnings, but qiskit resolved it by  turncating T_2 relaxation time to the theoretically max possible value and same for all the error parameters ###"
   ]
  },
  {
   "cell_type": "code",
   "execution_count": 41,
   "metadata": {},
   "outputs": [
    {
     "name": "stdout",
     "output_type": "stream",
     "text": [
      "alpha = 1.0:\n",
      "objective function value: -0.2548438013733403\n",
      "variable values: x_0=1.0, x_1=0.0, x_2=1.0, x_3=0.0, x_4=1.0, x_5=0.0, x_6=0.0, x_7=0.0, x_8=1.0, x_9=1.0\n",
      "status: SUCCESS\n",
      "\n",
      "alpha = 0.5:\n",
      "objective function value: -0.2548438013733403\n",
      "variable values: x_0=1.0, x_1=0.0, x_2=1.0, x_3=0.0, x_4=1.0, x_5=0.0, x_6=0.0, x_7=0.0, x_8=1.0, x_9=1.0\n",
      "status: SUCCESS\n",
      "\n",
      "alpha = 0.25:\n",
      "objective function value: -0.25553763310614386\n",
      "variable values: x_0=1.0, x_1=0.0, x_2=1.0, x_3=0.0, x_4=1.0, x_5=1.0, x_6=0.0, x_7=0.0, x_8=0.0, x_9=1.0\n",
      "status: SUCCESS\n",
      "\n",
      "Wall time: 5min 54s\n"
     ]
    }
   ],
   "source": [
    "%%time\n",
    "# dictionaries to store optimization progress and results\n",
    "objectives = {alpha: [] for alpha in alphas}  # set of tested objective functions w.r.t. alpha\n",
    "results = {}  # results of minimum eigensolver w.r.t alpha\n",
    "\n",
    "# callback to store intermediate results\n",
    "def callback(i, params, obj, stddev, alpha):\n",
    "    # we translate the objective from the internal Ising representation\n",
    "    # to the original optimization problem\n",
    "    objectives[alpha] += [-(obj + offset)]\n",
    "\n",
    "\n",
    "# loop over all given alpha values\n",
    "for alpha in alphas:\n",
    "\n",
    "    # initialize CVaR_alpha objective\n",
    "    cvar_exp = CVaRExpectation(alpha, PauliExpectation())\n",
    "#     cvar_exp.compute_variance = lambda x: [0]  # to be fixed in PR #1373\n",
    "\n",
    "    # initialize VQE using CVaR\n",
    "    qaoa = QAOA(\n",
    "        expectation=cvar_exp,\n",
    "        optimizer=optimizer,\n",
    "        quantum_instance=qi,\n",
    "        callback=lambda i, params, obj, stddev: callback(i, params, obj, stddev, alpha),\n",
    "    )\n",
    "\n",
    "    # initialize optimization algorithm based on CVaR-VQE\n",
    "    opt_alg = MinimumEigenOptimizer(qaoa)\n",
    "\n",
    "    # solve problem\n",
    "    results[alpha] = opt_alg.solve(qp)\n",
    "\n",
    "    # print results\n",
    "    print(\"alpha = {}:\".format(alpha))\n",
    "    print(results[alpha].prettyprint())\n",
    "    print()"
   ]
  },
  {
   "cell_type": "markdown",
   "metadata": {},
   "source": [
    "### The result is slightly different for alpha=0.25 and the time taken is significantly higher than the noiseless simulator and the FakeMumbai simulator (5 min 39s). This backend has 127 qubits vs 27 qubits that FakeMumbai has ###"
   ]
  },
  {
   "cell_type": "code",
   "execution_count": 42,
   "metadata": {},
   "outputs": [
    {
     "data": {
      "image/png": "[encoded data removed]",
      "text/plain": [
       "<Figure size 720x360 with 1 Axes>"
      ]
     },
     "metadata": {
      "needs_background": "light"
     },
     "output_type": "display_data"
    }
   ],
   "source": [
    "# plot resulting history of objective values\n",
    "plt.figure(figsize=(10, 5))\n",
    "plt.plot([0, maxiter], [opt_result.fval, opt_result.fval], \"r--\", linewidth=2, label=\"optimum\")\n",
    "for alpha in alphas:\n",
    "    plt.plot(objectives[alpha], label=\"alpha = %.2f\" % alpha, linewidth=2)\n",
    "plt.legend(loc=\"lower right\", fontsize=14)\n",
    "plt.xlim(0, maxiter)\n",
    "plt.xticks(fontsize=14)\n",
    "plt.xlabel(\"iterations\", fontsize=14)\n",
    "plt.yticks(fontsize=14)\n",
    "plt.ylabel(\"objective value\", fontsize=14)\n",
    "plt.show()"
   ]
  },
  {
   "cell_type": "code",
   "execution_count": 43,
   "metadata": {},
   "outputs": [
    {
     "data": {
      "text/plain": [
       "OrderedDict([('cx', 212), ('u', 105)])"
      ]
     },
     "execution_count": 43,
     "metadata": {},
     "output_type": "execute_result"
    }
   ],
   "source": [
    "qc_basis = transpile(qaoa.ansatz, device_backend,optimization_level=3, basis_gates=['cx','u'])\n",
    "# qc_basis.draw()\n",
    "gate_dict=qc_basis.count_ops()\n",
    "\n",
    "gate_dict"
   ]
  },
  {
   "cell_type": "code",
   "execution_count": 44,
   "metadata": {},
   "outputs": [
    {
     "name": "stdout",
     "output_type": "stream",
     "text": [
      "Total cost for when alpha is 1.0: 785.7092\n",
      "Total cost for when alpha is 0.5: 894.0484\n",
      "Total cost for when alpha is 0.25: 866.9636\n"
     ]
    }
   ],
   "source": [
    "task_price=0.25\n",
    "cost_cx = 0.0001\n",
    "cost_u = 0.00005\n",
    "price_per_shot = (cost_cx * gate_dict.get('cx')) + (cost_u * gate_dict.get('u'))\n",
    "shotsin=1024\n",
    "for alpha in alphas:\n",
    "    optim_evals=len(objectives[alpha])\n",
    "    print('Total cost for when alpha is '+str(alpha)+': '+ str((optim_evals*shotsin*price_per_shot)+task_price))\n",
    "# total_cost = (optim_evals*shotsin*price_per_shot)+task_price"
   ]
  },
  {
   "cell_type": "code",
   "execution_count": 45,
   "metadata": {},
   "outputs": [
    {
     "name": "stdout",
     "output_type": "stream",
     "text": [
      "The optimal value with alpha 1.0: -0.2548438013733403\n",
      "The optimal value with alpha 0.5: -0.2548438013733403\n",
      "The optimal value with alpha 0.25: -0.25553763310614386\n"
     ]
    }
   ],
   "source": [
    "for alpha in alphas:\n",
    "    print('The optimal value with alpha '+str(alpha)+': '+str(results[alpha].fval))"
   ]
  },
  {
   "cell_type": "markdown",
   "metadata": {},
   "source": [
    "### Clearly alpha=1.0 wins here. This is because the backend had much more noise and alpha=1.0 led to a convergence much faster. The effects of errors are clearly seen with more iterations that are required for lower alpha values ###"
   ]
  },
  {
   "cell_type": "code",
   "execution_count": 46,
   "metadata": {},
   "outputs": [
    {
     "data": {
      "text/plain": [
       "160"
      ]
     },
     "execution_count": 46,
     "metadata": {},
     "output_type": "execute_result"
    }
   ],
   "source": [
    "### Circuit depth ###\n",
    "\n",
    "qc_basis.depth()"
   ]
  },
  {
   "cell_type": "code",
   "execution_count": 47,
   "metadata": {},
   "outputs": [
    {
     "name": "stdout",
     "output_type": "stream",
     "text": [
      "Optimizer time for alpha 1.0: 107.87299013137817\n",
      "Optimizer time for alpha 0.5: 122.1123456954956\n",
      "Optimizer time for alpha 0.25: 113.82375001907349\n"
     ]
    }
   ],
   "source": [
    "for alpha in alphas:\n",
    "    x=results[alpha]\n",
    "    print('Optimizer time for alpha '+ str(alpha)+ ': '+ str(x.min_eigen_solver_result.optimizer_time))"
   ]
  },
  {
   "cell_type": "markdown",
   "metadata": {},
   "source": [
    "### FakeToronto device backend ###"
   ]
  },
  {
   "cell_type": "code",
   "execution_count": 48,
   "metadata": {},
   "outputs": [
    {
     "name": "stdout",
     "output_type": "stream",
     "text": [
      "NoiseModel:\n",
      "  Basis gates: ['cx', 'id', 'kraus', 'qerror_loc', 'quantum_channel', 'roerror', 'rz', 'save_amplitudes', 'save_amplitudes_sq', 'save_clifford', 'save_density_matrix', 'save_expval', 'save_expval_var', 'save_matrix_product_state', 'save_probabilities', 'save_probabilities_dict', 'save_stabilizer', 'save_state', 'save_statevector', 'save_statevector_dict', 'save_superop', 'save_unitary', 'set_density_matrix', 'set_matrix_product_state', 'set_stabilizer', 'set_statevector', 'set_superop', 'set_unitary', 'snapshot', 'superop', 'sx', 'x']\n",
      "  Instructions with noise: ['x', 'measure', 'cx', 'sx', 'reset', 'id']\n",
      "  Qubits with noise: [0, 1, 2, 3, 4, 5, 6, 7, 8, 9, 10, 11, 12, 13, 14, 15, 16, 17, 18, 19, 20, 21, 22, 23, 24, 25, 26]\n",
      "  Specific qubit errors: [('id', (0,)), ('id', (1,)), ('id', (2,)), ('id', (3,)), ('id', (4,)), ('id', (5,)), ('id', (6,)), ('id', (7,)), ('id', (8,)), ('id', (9,)), ('id', (10,)), ('id', (11,)), ('id', (12,)), ('id', (13,)), ('id', (14,)), ('id', (15,)), ('id', (16,)), ('id', (17,)), ('id', (18,)), ('id', (19,)), ('id', (20,)), ('id', (21,)), ('id', (22,)), ('id', (23,)), ('id', (24,)), ('id', (25,)), ('id', (26,)), ('sx', (0,)), ('sx', (1,)), ('sx', (2,)), ('sx', (3,)), ('sx', (4,)), ('sx', (5,)), ('sx', (6,)), ('sx', (7,)), ('sx', (8,)), ('sx', (9,)), ('sx', (10,)), ('sx', (11,)), ('sx', (12,)), ('sx', (13,)), ('sx', (14,)), ('sx', (15,)), ('sx', (16,)), ('sx', (17,)), ('sx', (18,)), ('sx', (19,)), ('sx', (20,)), ('sx', (21,)), ('sx', (22,)), ('sx', (23,)), ('sx', (24,)), ('sx', (25,)), ('sx', (26,)), ('x', (0,)), ('x', (1,)), ('x', (2,)), ('x', (3,)), ('x', (4,)), ('x', (5,)), ('x', (6,)), ('x', (7,)), ('x', (8,)), ('x', (9,)), ('x', (10,)), ('x', (11,)), ('x', (12,)), ('x', (13,)), ('x', (14,)), ('x', (15,)), ('x', (16,)), ('x', (17,)), ('x', (18,)), ('x', (19,)), ('x', (20,)), ('x', (21,)), ('x', (22,)), ('x', (23,)), ('x', (24,)), ('x', (25,)), ('x', (26,)), ('cx', (16, 14)), ('cx', (14, 16)), ('cx', (9, 8)), ('cx', (8, 9)), ('cx', (5, 8)), ('cx', (8, 5)), ('cx', (5, 3)), ('cx', (3, 5)), ('cx', (26, 25)), ('cx', (25, 26)), ('cx', (18, 17)), ('cx', (17, 18)), ('cx', (18, 15)), ('cx', (15, 18)), ('cx', (12, 15)), ('cx', (15, 12)), ('cx', (2, 3)), ('cx', (3, 2)), ('cx', (13, 12)), ('cx', (12, 13)), ('cx', (25, 24)), ('cx', (24, 25)), ('cx', (12, 10)), ('cx', (10, 12)), ('cx', (19, 22)), ('cx', (22, 19)), ('cx', (7, 10)), ('cx', (10, 7)), ('cx', (25, 22)), ('cx', (22, 25)), ('cx', (6, 7)), ('cx', (7, 6)), ('cx', (11, 8)), ('cx', (8, 11)), ('cx', (21, 18)), ('cx', (18, 21)), ('cx', (7, 4)), ('cx', (4, 7)), ('cx', (19, 16)), ('cx', (16, 19)), ('cx', (1, 4)), ('cx', (4, 1)), ('cx', (14, 11)), ('cx', (11, 14)), ('cx', (24, 23)), ('cx', (23, 24)), ('cx', (2, 1)), ('cx', (1, 2)), ('cx', (20, 19)), ('cx', (19, 20)), ('cx', (23, 21)), ('cx', (21, 23)), ('cx', (0, 1)), ('cx', (1, 0)), ('cx', (13, 14)), ('cx', (14, 13)), ('reset', (0,)), ('reset', (1,)), ('reset', (2,)), ('reset', (3,)), ('reset', (4,)), ('reset', (5,)), ('reset', (6,)), ('reset', (7,)), ('reset', (8,)), ('reset', (9,)), ('reset', (10,)), ('reset', (11,)), ('reset', (12,)), ('reset', (13,)), ('reset', (14,)), ('reset', (15,)), ('reset', (16,)), ('reset', (17,)), ('reset', (18,)), ('reset', (19,)), ('reset', (20,)), ('reset', (21,)), ('reset', (22,)), ('reset', (23,)), ('reset', (24,)), ('reset', (25,)), ('reset', (26,)), ('measure', (0,)), ('measure', (1,)), ('measure', (2,)), ('measure', (3,)), ('measure', (4,)), ('measure', (5,)), ('measure', (6,)), ('measure', (7,)), ('measure', (8,)), ('measure', (9,)), ('measure', (10,)), ('measure', (11,)), ('measure', (12,)), ('measure', (13,)), ('measure', (14,)), ('measure', (15,)), ('measure', (16,)), ('measure', (17,)), ('measure', (18,)), ('measure', (19,)), ('measure', (20,)), ('measure', (21,)), ('measure', (22,)), ('measure', (23,)), ('measure', (24,)), ('measure', (25,)), ('measure', (26,))]\n",
      "\n"
     ]
    }
   ],
   "source": [
    "import os\n",
    "from qiskit.providers.aer import QasmSimulator, AerSimulator\n",
    "from qiskit.providers.aer.noise import NoiseModel\n",
    "from qiskit.providers.fake_provider import FakeToronto\n",
    "from qiskit.utils import QuantumInstance\n",
    "\n",
    "device_backend = FakeToronto()\n",
    "\n",
    "backend = Aer.get_backend('aer_simulator')\n",
    "counts1 = []\n",
    "values1 = []\n",
    "noise_model = None\n",
    "device = AerSimulator.from_backend(device_backend)\n",
    "coupling_map = device.configuration().coupling_map\n",
    "noise_model = NoiseModel.from_backend(device)\n",
    "basis_gates = noise_model.basis_gates\n",
    "\n",
    "print(noise_model)\n",
    "print()\n",
    "seed=1234\n",
    "algorithm_globals.random_seed = 1234\n",
    "qi = QuantumInstance(backend=backend, seed_simulator=seed, seed_transpiler=seed,\n",
    "                     coupling_map=coupling_map, noise_model=noise_model,shots=1024)"
   ]
  },
  {
   "cell_type": "code",
   "execution_count": 49,
   "metadata": {},
   "outputs": [
    {
     "name": "stdout",
     "output_type": "stream",
     "text": [
      "alpha = 1.0:\n",
      "objective function value: -0.2548438013733403\n",
      "variable values: x_0=1.0, x_1=0.0, x_2=1.0, x_3=0.0, x_4=1.0, x_5=0.0, x_6=0.0, x_7=0.0, x_8=1.0, x_9=1.0\n",
      "status: SUCCESS\n",
      "\n",
      "alpha = 0.5:\n",
      "objective function value: -0.2548438013733403\n",
      "variable values: x_0=1.0, x_1=0.0, x_2=1.0, x_3=0.0, x_4=1.0, x_5=0.0, x_6=0.0, x_7=0.0, x_8=1.0, x_9=1.0\n",
      "status: SUCCESS\n",
      "\n",
      "alpha = 0.25:\n",
      "objective function value: -0.2548438013733403\n",
      "variable values: x_0=1.0, x_1=0.0, x_2=1.0, x_3=0.0, x_4=1.0, x_5=0.0, x_6=0.0, x_7=0.0, x_8=1.0, x_9=1.0\n",
      "status: SUCCESS\n",
      "\n",
      "Wall time: 2min 27s\n"
     ]
    }
   ],
   "source": [
    "%%time\n",
    "# dictionaries to store optimization progress and results\n",
    "objectives = {alpha: [] for alpha in alphas}  # set of tested objective functions w.r.t. alpha\n",
    "results = {}  # results of minimum eigensolver w.r.t alpha\n",
    "\n",
    "# callback to store intermediate results\n",
    "def callback(i, params, obj, stddev, alpha):\n",
    "    # we translate the objective from the internal Ising representation\n",
    "    # to the original optimization problem\n",
    "    objectives[alpha] += [-(obj + offset)]\n",
    "\n",
    "\n",
    "# loop over all given alpha values\n",
    "for alpha in alphas:\n",
    "\n",
    "    # initialize CVaR_alpha objective\n",
    "    cvar_exp = CVaRExpectation(alpha, PauliExpectation())\n",
    "#     cvar_exp.compute_variance = lambda x: [0]  # to be fixed in PR #1373\n",
    "\n",
    "    # initialize VQE using CVaR\n",
    "    qaoa = QAOA(\n",
    "        expectation=cvar_exp,\n",
    "        optimizer=optimizer,\n",
    "        quantum_instance=qi,\n",
    "        callback=lambda i, params, obj, stddev: callback(i, params, obj, stddev, alpha),\n",
    "    )\n",
    "\n",
    "    # initialize optimization algorithm based on CVaR-VQE\n",
    "    opt_alg = MinimumEigenOptimizer(qaoa)\n",
    "\n",
    "    # solve problem\n",
    "    results[alpha] = opt_alg.solve(qp)\n",
    "\n",
    "    # print results\n",
    "    print(\"alpha = {}:\".format(alpha))\n",
    "    print(results[alpha].prettyprint())\n",
    "    print()"
   ]
  },
  {
   "cell_type": "code",
   "execution_count": 50,
   "metadata": {},
   "outputs": [
    {
     "data": {
      "image/png": "[encoded data removed]",
      "text/plain": [
       "<Figure size 720x360 with 1 Axes>"
      ]
     },
     "metadata": {
      "needs_background": "light"
     },
     "output_type": "display_data"
    }
   ],
   "source": [
    "# plot resulting history of objective values\n",
    "plt.figure(figsize=(10, 5))\n",
    "plt.plot([0, maxiter], [opt_result.fval, opt_result.fval], \"r--\", linewidth=2, label=\"optimum\")\n",
    "for alpha in alphas:\n",
    "    plt.plot(objectives[alpha], label=\"alpha = %.2f\" % alpha, linewidth=2)\n",
    "plt.legend(loc=\"lower right\", fontsize=14)\n",
    "plt.xlim(0, maxiter)\n",
    "plt.xticks(fontsize=14)\n",
    "plt.xlabel(\"iterations\", fontsize=14)\n",
    "plt.yticks(fontsize=14)\n",
    "plt.ylabel(\"objective value\", fontsize=14)\n",
    "plt.show()"
   ]
  },
  {
   "cell_type": "code",
   "execution_count": 51,
   "metadata": {},
   "outputs": [
    {
     "data": {
      "text/plain": [
       "OrderedDict([('cx', 189), ('u', 141)])"
      ]
     },
     "execution_count": 51,
     "metadata": {},
     "output_type": "execute_result"
    }
   ],
   "source": [
    "qc_basis = transpile(qaoa.ansatz, device_backend,optimization_level=3, basis_gates=['cx','u'])\n",
    "# qc_basis.draw()\n",
    "gate_dict=qc_basis.count_ops()\n",
    "\n",
    "gate_dict"
   ]
  },
  {
   "cell_type": "code",
   "execution_count": 52,
   "metadata": {},
   "outputs": [
    {
     "name": "stdout",
     "output_type": "stream",
     "text": [
      "Total cost for when alpha is 1.0: 850.5796\n",
      "Total cost for when alpha is 0.5: 850.5796\n",
      "Total cost for when alpha is 0.25: 744.2884\n"
     ]
    }
   ],
   "source": [
    "task_price=0.25\n",
    "cost_cx = 0.0001\n",
    "cost_u = 0.00005\n",
    "price_per_shot = (cost_cx * gate_dict.get('cx')) + (cost_u * gate_dict.get('u'))\n",
    "shotsin=1024\n",
    "for alpha in alphas:\n",
    "    optim_evals=len(objectives[alpha])\n",
    "    print('Total cost for when alpha is '+str(alpha)+': '+ str((optim_evals*shotsin*price_per_shot)+task_price))\n",
    "# total_cost = (optim_evals*shotsin*price_per_shot)+task_price"
   ]
  },
  {
   "cell_type": "code",
   "execution_count": 53,
   "metadata": {},
   "outputs": [
    {
     "name": "stdout",
     "output_type": "stream",
     "text": [
      "The optimal value with alpha 1.0: -0.2548438013733403\n",
      "The optimal value with alpha 0.5: -0.2548438013733403\n",
      "The optimal value with alpha 0.25: -0.2548438013733403\n"
     ]
    }
   ],
   "source": [
    "for alpha in alphas:\n",
    "    print('The optimal value with alpha '+str(alpha)+': '+str(results[alpha].fval))"
   ]
  },
  {
   "cell_type": "markdown",
   "metadata": {},
   "source": [
    "### We get the same optimal values for all the 3 alpha values, but the cost for 0.25 alpha is clearly the least and that works best for this noisy backend. ###"
   ]
  },
  {
   "cell_type": "code",
   "execution_count": 54,
   "metadata": {},
   "outputs": [
    {
     "data": {
      "text/plain": [
       "155"
      ]
     },
     "execution_count": 54,
     "metadata": {},
     "output_type": "execute_result"
    }
   ],
   "source": [
    "### Circuit depth ###\n",
    "\n",
    "qc_basis.depth()"
   ]
  },
  {
   "cell_type": "code",
   "execution_count": 55,
   "metadata": {},
   "outputs": [
    {
     "name": "stdout",
     "output_type": "stream",
     "text": [
      "Optimizer time for alpha 1.0: 49.005818367004395\n",
      "Optimizer time for alpha 0.5: 50.72268795967102\n",
      "Optimizer time for alpha 0.25: 44.04857659339905\n"
     ]
    }
   ],
   "source": [
    "for alpha in alphas:\n",
    "    x=results[alpha]\n",
    "    print('Optimizer time for alpha '+ str(alpha)+ ': '+ str(x.min_eigen_solver_result.optimizer_time))"
   ]
  },
  {
   "cell_type": "markdown",
   "metadata": {},
   "source": [
    "### different optimizer ###"
   ]
  },
  {
   "cell_type": "code",
   "execution_count": 91,
   "metadata": {},
   "outputs": [],
   "source": [
    "# set classical optimizer\n",
    "maxiter = 100\n",
    "optimizer = CG(maxiter=maxiter)\n",
    "\n",
    "# set variational ansatz\n",
    "#ansatz = RealAmplitudes(n, reps=1)\n",
    "#m = ansatz.num_parameters\n",
    "\n",
    "# # set backend\n",
    "\n",
    "# backend_name = \"qasm_simulator\"  # use this for QASM simulator\n",
    "# # backend_name = 'aer_simulator_statevector'  # use this for statevector simlator\n",
    "# backend = Aer.get_backend(backend_name)\n",
    "\n",
    "# # run variational optimization for different values of alpha\n",
    "# alphas = [1.0, 0.50, 0.25, 0.3, 0.4, 0.45]  # confidence levels to be evaluated"
   ]
  },
  {
   "cell_type": "code",
   "execution_count": 92,
   "metadata": {},
   "outputs": [
    {
     "name": "stdout",
     "output_type": "stream",
     "text": [
      "NoiseModel:\n",
      "  Basis gates: ['cx', 'id', 'kraus', 'qerror_loc', 'quantum_channel', 'roerror', 'rz', 'save_amplitudes', 'save_amplitudes_sq', 'save_clifford', 'save_density_matrix', 'save_expval', 'save_expval_var', 'save_matrix_product_state', 'save_probabilities', 'save_probabilities_dict', 'save_stabilizer', 'save_state', 'save_statevector', 'save_statevector_dict', 'save_superop', 'save_unitary', 'set_density_matrix', 'set_matrix_product_state', 'set_stabilizer', 'set_statevector', 'set_superop', 'set_unitary', 'snapshot', 'superop', 'sx', 'x']\n",
      "  Instructions with noise: ['x', 'measure', 'cx', 'sx', 'reset', 'id']\n",
      "  Qubits with noise: [0, 1, 2, 3, 4, 5, 6, 7, 8, 9, 10, 11, 12, 13, 14, 15, 16, 17, 18, 19, 20, 21, 22, 23, 24, 25, 26]\n",
      "  Specific qubit errors: [('id', (0,)), ('id', (1,)), ('id', (2,)), ('id', (3,)), ('id', (4,)), ('id', (5,)), ('id', (6,)), ('id', (7,)), ('id', (8,)), ('id', (9,)), ('id', (10,)), ('id', (11,)), ('id', (12,)), ('id', (13,)), ('id', (14,)), ('id', (15,)), ('id', (16,)), ('id', (17,)), ('id', (18,)), ('id', (19,)), ('id', (20,)), ('id', (21,)), ('id', (22,)), ('id', (23,)), ('id', (24,)), ('id', (25,)), ('id', (26,)), ('sx', (0,)), ('sx', (1,)), ('sx', (2,)), ('sx', (3,)), ('sx', (4,)), ('sx', (5,)), ('sx', (6,)), ('sx', (7,)), ('sx', (8,)), ('sx', (9,)), ('sx', (10,)), ('sx', (11,)), ('sx', (12,)), ('sx', (13,)), ('sx', (14,)), ('sx', (15,)), ('sx', (16,)), ('sx', (17,)), ('sx', (18,)), ('sx', (19,)), ('sx', (20,)), ('sx', (21,)), ('sx', (22,)), ('sx', (23,)), ('sx', (24,)), ('sx', (25,)), ('sx', (26,)), ('x', (0,)), ('x', (1,)), ('x', (2,)), ('x', (3,)), ('x', (4,)), ('x', (5,)), ('x', (6,)), ('x', (7,)), ('x', (8,)), ('x', (9,)), ('x', (10,)), ('x', (11,)), ('x', (12,)), ('x', (13,)), ('x', (14,)), ('x', (15,)), ('x', (16,)), ('x', (17,)), ('x', (18,)), ('x', (19,)), ('x', (20,)), ('x', (21,)), ('x', (22,)), ('x', (23,)), ('x', (24,)), ('x', (25,)), ('x', (26,)), ('cx', (3, 2)), ('cx', (2, 3)), ('cx', (5, 8)), ('cx', (8, 5)), ('cx', (9, 8)), ('cx', (8, 9)), ('cx', (14, 11)), ('cx', (11, 14)), ('cx', (13, 14)), ('cx', (14, 13)), ('cx', (16, 14)), ('cx', (14, 16)), ('cx', (2, 1)), ('cx', (1, 2)), ('cx', (19, 16)), ('cx', (16, 19)), ('cx', (12, 13)), ('cx', (13, 12)), ('cx', (24, 23)), ('cx', (23, 24)), ('cx', (8, 11)), ('cx', (11, 8)), ('cx', (18, 21)), ('cx', (21, 18)), ('cx', (3, 5)), ('cx', (5, 3)), ('cx', (10, 12)), ('cx', (12, 10)), ('cx', (22, 19)), ('cx', (19, 22)), ('cx', (10, 7)), ('cx', (7, 10)), ('cx', (25, 22)), ('cx', (22, 25)), ('cx', (6, 7)), ('cx', (7, 6)), ('cx', (17, 18)), ('cx', (18, 17)), ('cx', (4, 7)), ('cx', (7, 4)), ('cx', (20, 19)), ('cx', (19, 20)), ('cx', (21, 23)), ('cx', (23, 21)), ('cx', (4, 1)), ('cx', (1, 4)), ('cx', (15, 18)), ('cx', (18, 15)), ('cx', (26, 25)), ('cx', (25, 26)), ('cx', (0, 1)), ('cx', (1, 0)), ('cx', (15, 12)), ('cx', (12, 15)), ('cx', (24, 25)), ('cx', (25, 24)), ('reset', (0,)), ('reset', (1,)), ('reset', (2,)), ('reset', (3,)), ('reset', (4,)), ('reset', (5,)), ('reset', (6,)), ('reset', (7,)), ('reset', (8,)), ('reset', (9,)), ('reset', (10,)), ('reset', (11,)), ('reset', (12,)), ('reset', (13,)), ('reset', (14,)), ('reset', (15,)), ('reset', (16,)), ('reset', (17,)), ('reset', (18,)), ('reset', (19,)), ('reset', (20,)), ('reset', (21,)), ('reset', (22,)), ('reset', (23,)), ('reset', (24,)), ('reset', (25,)), ('reset', (26,)), ('measure', (0,)), ('measure', (1,)), ('measure', (2,)), ('measure', (3,)), ('measure', (4,)), ('measure', (5,)), ('measure', (6,)), ('measure', (7,)), ('measure', (8,)), ('measure', (9,)), ('measure', (10,)), ('measure', (11,)), ('measure', (12,)), ('measure', (13,)), ('measure', (14,)), ('measure', (15,)), ('measure', (16,)), ('measure', (17,)), ('measure', (18,)), ('measure', (19,)), ('measure', (20,)), ('measure', (21,)), ('measure', (22,)), ('measure', (23,)), ('measure', (24,)), ('measure', (25,)), ('measure', (26,))]\n",
      "\n"
     ]
    }
   ],
   "source": [
    "device_backend = FakeMumbai()\n",
    "\n",
    "backend = Aer.get_backend('aer_simulator')\n",
    "counts1 = []\n",
    "values1 = []\n",
    "noise_model = None\n",
    "device = AerSimulator.from_backend(device_backend)\n",
    "coupling_map = device.configuration().coupling_map\n",
    "noise_model = NoiseModel.from_backend(device)\n",
    "basis_gates = noise_model.basis_gates\n",
    "\n",
    "print(noise_model)\n",
    "print()\n",
    "seed=1234\n",
    "algorithm_globals.random_seed = 1234\n",
    "qi = QuantumInstance(backend=backend, seed_simulator=seed, seed_transpiler=seed,\n",
    "                     coupling_map=coupling_map, noise_model=noise_model,shots=1024)"
   ]
  },
  {
   "cell_type": "code",
   "execution_count": 93,
   "metadata": {},
   "outputs": [
    {
     "name": "stdout",
     "output_type": "stream",
     "text": [
      "alpha = 1.0:\n",
      "objective function value: -0.2548438013733403\n",
      "variable values: x_0=1.0, x_1=0.0, x_2=1.0, x_3=0.0, x_4=1.0, x_5=0.0, x_6=0.0, x_7=0.0, x_8=1.0, x_9=1.0\n",
      "status: SUCCESS\n",
      "\n",
      "alpha = 0.5:\n",
      "objective function value: -0.25553763310614386\n",
      "variable values: x_0=1.0, x_1=0.0, x_2=1.0, x_3=0.0, x_4=1.0, x_5=1.0, x_6=0.0, x_7=0.0, x_8=0.0, x_9=1.0\n",
      "status: SUCCESS\n",
      "\n",
      "alpha = 0.25:\n",
      "objective function value: -0.2548438013733403\n",
      "variable values: x_0=1.0, x_1=0.0, x_2=1.0, x_3=0.0, x_4=1.0, x_5=0.0, x_6=0.0, x_7=0.0, x_8=1.0, x_9=1.0\n",
      "status: SUCCESS\n",
      "\n",
      "alpha = 0.3:\n",
      "objective function value: -0.2558995449738859\n",
      "variable values: x_0=1.0, x_1=0.0, x_2=1.0, x_3=0.0, x_4=1.0, x_5=0.0, x_6=1.0, x_7=0.0, x_8=0.0, x_9=1.0\n",
      "status: SUCCESS\n",
      "\n",
      "alpha = 0.4:\n",
      "objective function value: -0.25596729132934115\n",
      "variable values: x_0=0.0, x_1=0.0, x_2=1.0, x_3=0.0, x_4=1.0, x_5=1.0, x_6=0.0, x_7=0.0, x_8=1.0, x_9=1.0\n",
      "status: SUCCESS\n",
      "\n",
      "alpha = 0.45:\n",
      "objective function value: -0.25596729132934115\n",
      "variable values: x_0=0.0, x_1=0.0, x_2=1.0, x_3=0.0, x_4=1.0, x_5=1.0, x_6=0.0, x_7=0.0, x_8=1.0, x_9=1.0\n",
      "status: SUCCESS\n",
      "\n",
      "Wall time: 1min 12s\n"
     ]
    }
   ],
   "source": [
    "%%time\n",
    "# dictionaries to store optimization progress and results\n",
    "objectives = {alpha: [] for alpha in alphas}  # set of tested objective functions w.r.t. alpha\n",
    "results = {}  # results of minimum eigensolver w.r.t alpha\n",
    "\n",
    "# callback to store intermediate results\n",
    "def callback(i, params, obj, stddev, alpha):\n",
    "    # we translate the objective from the internal Ising representation\n",
    "    # to the original optimization problem\n",
    "    objectives[alpha] += [-(obj + offset)]\n",
    "\n",
    "\n",
    "# loop over all given alpha values\n",
    "for alpha in alphas:\n",
    "\n",
    "    # initialize CVaR_alpha objective\n",
    "    cvar_exp = CVaRExpectation(alpha, PauliExpectation())\n",
    "#     cvar_exp.compute_variance = lambda x: [0]  # to be fixed in PR #1373\n",
    "\n",
    "    # initialize VQE using CVaR\n",
    "    qaoa = QAOA(\n",
    "        expectation=cvar_exp,\n",
    "        optimizer=optimizer,\n",
    "        quantum_instance=qi,\n",
    "        callback=lambda i, params, obj, stddev: callback(i, params, obj, stddev, alpha),\n",
    "    )\n",
    "\n",
    "    # initialize optimization algorithm based on CVaR-VQE\n",
    "    opt_alg = MinimumEigenOptimizer(qaoa)\n",
    "\n",
    "    # solve problem\n",
    "    results[alpha] = opt_alg.solve(qp)\n",
    "\n",
    "    # print results\n",
    "    print(\"alpha = {}:\".format(alpha))\n",
    "    print(results[alpha].prettyprint())\n",
    "    print()\n",
    "\n",
    "### Note: With the above noise model, results seem slightly different from what we got with the qasm simulator ###"
   ]
  },
  {
   "cell_type": "code",
   "execution_count": 94,
   "metadata": {},
   "outputs": [
    {
     "data": {
      "image/png": "[encoded data removed]",
      "text/plain": [
       "<Figure size 720x360 with 1 Axes>"
      ]
     },
     "metadata": {
      "needs_background": "light"
     },
     "output_type": "display_data"
    }
   ],
   "source": [
    "# plot resulting history of objective values\n",
    "plt.figure(figsize=(10, 5))\n",
    "plt.plot([0, maxiter], [opt_result.fval, opt_result.fval], \"r--\", linewidth=2, label=\"optimum\")\n",
    "for alpha in alphas:\n",
    "    plt.plot(objectives[alpha], label=\"alpha = %.2f\" % alpha, linewidth=2)\n",
    "plt.legend(loc=\"lower right\", fontsize=14)\n",
    "plt.xlim(0, maxiter)\n",
    "plt.xticks(fontsize=14)\n",
    "plt.xlabel(\"iterations\", fontsize=14)\n",
    "plt.yticks(fontsize=14)\n",
    "plt.ylabel(\"objective value\", fontsize=14)\n",
    "plt.show()"
   ]
  },
  {
   "cell_type": "code",
   "execution_count": 95,
   "metadata": {},
   "outputs": [
    {
     "name": "stdout",
     "output_type": "stream",
     "text": [
      "The number of iterations for alpha 1.0: 18\n",
      "The number of iterations for alpha 0.5: 3\n",
      "The number of iterations for alpha 0.25: 3\n",
      "The number of iterations for alpha 0.3: 3\n",
      "The number of iterations for alpha 0.4: 3\n",
      "The number of iterations for alpha 0.45: 3\n"
     ]
    }
   ],
   "source": [
    "qc_basis = transpile(qaoa.ansatz, device_backend,optimization_level=3, basis_gates=['cx','u'])\n",
    "# qc_basis.draw()\n",
    "gate_dict=qc_basis.count_ops()\n",
    "\n",
    "gate_dict\n",
    "\n",
    "for alpha in alphas:\n",
    "    optim_evals=len(objectives[alpha])\n",
    "    print('The number of iterations for alpha '+str(alpha)+': '+ str(optim_evals))"
   ]
  },
  {
   "cell_type": "code",
   "execution_count": 96,
   "metadata": {},
   "outputs": [
    {
     "name": "stdout",
     "output_type": "stream",
     "text": [
      "Total cost for when alpha is 1.0: 447.226\n",
      "Total cost for when alpha is 0.5: 74.74600000000001\n",
      "Total cost for when alpha is 0.25: 74.74600000000001\n",
      "Total cost for when alpha is 0.3: 74.74600000000001\n",
      "Total cost for when alpha is 0.4: 74.74600000000001\n",
      "Total cost for when alpha is 0.45: 74.74600000000001\n"
     ]
    }
   ],
   "source": [
    "task_price=0.25\n",
    "cost_cx = 0.0001\n",
    "cost_u = 0.00005\n",
    "price_per_shot = (cost_cx * gate_dict.get('cx')) + (cost_u * gate_dict.get('u'))\n",
    "shotsin=1024\n",
    "for alpha in alphas:\n",
    "    optim_evals=len(objectives[alpha])\n",
    "    print('Total cost for when alpha is '+str(alpha)+': '+ str((optim_evals*shotsin*price_per_shot)+task_price))\n",
    "# total_cost = (optim_evals*shotsin*price_per_shot)+task_price"
   ]
  },
  {
   "cell_type": "code",
   "execution_count": 97,
   "metadata": {},
   "outputs": [
    {
     "name": "stdout",
     "output_type": "stream",
     "text": [
      "The optimal value with alpha 1.0: -0.2548438013733403\n",
      "The optimal value with alpha 0.5: -0.25553763310614386\n",
      "The optimal value with alpha 0.25: -0.2548438013733403\n",
      "The optimal value with alpha 0.3: -0.2558995449738859\n",
      "The optimal value with alpha 0.4: -0.25596729132934115\n",
      "The optimal value with alpha 0.45: -0.25596729132934115\n"
     ]
    }
   ],
   "source": [
    "for alpha in alphas:\n",
    "    print('The optimal value with alpha '+str(alpha)+': '+str(results[alpha].fval))"
   ]
  },
  {
   "cell_type": "code",
   "execution_count": 98,
   "metadata": {},
   "outputs": [
    {
     "data": {
      "text/plain": [
       "169"
      ]
     },
     "execution_count": 98,
     "metadata": {},
     "output_type": "execute_result"
    }
   ],
   "source": [
    "### Circuit depth ###\n",
    "\n",
    "qc_basis.depth()"
   ]
  },
  {
   "cell_type": "code",
   "execution_count": 99,
   "metadata": {},
   "outputs": [
    {
     "name": "stdout",
     "output_type": "stream",
     "text": [
      "Optimizer time for alpha 1.0: 36.51720213890076\n",
      "Optimizer time for alpha 0.5: 5.512085676193237\n",
      "Optimizer time for alpha 0.25: 5.234857559204102\n",
      "Optimizer time for alpha 0.3: 6.252118349075317\n",
      "Optimizer time for alpha 0.4: 5.242650032043457\n",
      "Optimizer time for alpha 0.45: 5.026722192764282\n"
     ]
    }
   ],
   "source": [
    "for alpha in alphas:\n",
    "    x=results[alpha]\n",
    "    print('Optimizer time for alpha '+ str(alpha)+ ': '+ str(x.min_eigen_solver_result.optimizer_time))"
   ]
  },
  {
   "cell_type": "markdown",
   "metadata": {},
   "source": [
    "## custom initial point ##"
   ]
  },
  {
   "cell_type": "code",
   "execution_count": 48,
   "metadata": {},
   "outputs": [
    {
     "name": "stdout",
     "output_type": "stream",
     "text": [
      "NoiseModel:\n",
      "  Basis gates: ['cx', 'id', 'kraus', 'qerror_loc', 'quantum_channel', 'roerror', 'rz', 'save_amplitudes', 'save_amplitudes_sq', 'save_clifford', 'save_density_matrix', 'save_expval', 'save_expval_var', 'save_matrix_product_state', 'save_probabilities', 'save_probabilities_dict', 'save_stabilizer', 'save_state', 'save_statevector', 'save_statevector_dict', 'save_superop', 'save_unitary', 'set_density_matrix', 'set_matrix_product_state', 'set_stabilizer', 'set_statevector', 'set_superop', 'set_unitary', 'snapshot', 'superop', 'sx', 'x']\n",
      "  Instructions with noise: ['x', 'reset', 'cx', 'id', 'measure', 'sx']\n",
      "  Qubits with noise: [0, 1, 2, 3, 4, 5, 6, 7, 8, 9, 10, 11, 12, 13, 14, 15, 16, 17, 18, 19, 20, 21, 22, 23, 24, 25, 26]\n",
      "  Specific qubit errors: [('id', (0,)), ('id', (1,)), ('id', (2,)), ('id', (3,)), ('id', (4,)), ('id', (5,)), ('id', (6,)), ('id', (7,)), ('id', (8,)), ('id', (9,)), ('id', (10,)), ('id', (11,)), ('id', (12,)), ('id', (13,)), ('id', (14,)), ('id', (15,)), ('id', (16,)), ('id', (17,)), ('id', (18,)), ('id', (19,)), ('id', (20,)), ('id', (21,)), ('id', (22,)), ('id', (23,)), ('id', (24,)), ('id', (25,)), ('id', (26,)), ('sx', (0,)), ('sx', (1,)), ('sx', (2,)), ('sx', (3,)), ('sx', (4,)), ('sx', (5,)), ('sx', (6,)), ('sx', (7,)), ('sx', (8,)), ('sx', (9,)), ('sx', (10,)), ('sx', (11,)), ('sx', (12,)), ('sx', (13,)), ('sx', (14,)), ('sx', (15,)), ('sx', (16,)), ('sx', (17,)), ('sx', (18,)), ('sx', (19,)), ('sx', (20,)), ('sx', (21,)), ('sx', (22,)), ('sx', (23,)), ('sx', (24,)), ('sx', (25,)), ('sx', (26,)), ('x', (0,)), ('x', (1,)), ('x', (2,)), ('x', (3,)), ('x', (4,)), ('x', (5,)), ('x', (6,)), ('x', (7,)), ('x', (8,)), ('x', (9,)), ('x', (10,)), ('x', (11,)), ('x', (12,)), ('x', (13,)), ('x', (14,)), ('x', (15,)), ('x', (16,)), ('x', (17,)), ('x', (18,)), ('x', (19,)), ('x', (20,)), ('x', (21,)), ('x', (22,)), ('x', (23,)), ('x', (24,)), ('x', (25,)), ('x', (26,)), ('cx', (3, 2)), ('cx', (2, 3)), ('cx', (5, 8)), ('cx', (8, 5)), ('cx', (9, 8)), ('cx', (8, 9)), ('cx', (14, 11)), ('cx', (11, 14)), ('cx', (13, 14)), ('cx', (14, 13)), ('cx', (16, 14)), ('cx', (14, 16)), ('cx', (2, 1)), ('cx', (1, 2)), ('cx', (19, 16)), ('cx', (16, 19)), ('cx', (12, 13)), ('cx', (13, 12)), ('cx', (24, 23)), ('cx', (23, 24)), ('cx', (8, 11)), ('cx', (11, 8)), ('cx', (18, 21)), ('cx', (21, 18)), ('cx', (3, 5)), ('cx', (5, 3)), ('cx', (10, 12)), ('cx', (12, 10)), ('cx', (22, 19)), ('cx', (19, 22)), ('cx', (10, 7)), ('cx', (7, 10)), ('cx', (25, 22)), ('cx', (22, 25)), ('cx', (6, 7)), ('cx', (7, 6)), ('cx', (17, 18)), ('cx', (18, 17)), ('cx', (4, 7)), ('cx', (7, 4)), ('cx', (20, 19)), ('cx', (19, 20)), ('cx', (21, 23)), ('cx', (23, 21)), ('cx', (4, 1)), ('cx', (1, 4)), ('cx', (15, 18)), ('cx', (18, 15)), ('cx', (26, 25)), ('cx', (25, 26)), ('cx', (0, 1)), ('cx', (1, 0)), ('cx', (15, 12)), ('cx', (12, 15)), ('cx', (24, 25)), ('cx', (25, 24)), ('reset', (0,)), ('reset', (1,)), ('reset', (2,)), ('reset', (3,)), ('reset', (4,)), ('reset', (5,)), ('reset', (6,)), ('reset', (7,)), ('reset', (8,)), ('reset', (9,)), ('reset', (10,)), ('reset', (11,)), ('reset', (12,)), ('reset', (13,)), ('reset', (14,)), ('reset', (15,)), ('reset', (16,)), ('reset', (17,)), ('reset', (18,)), ('reset', (19,)), ('reset', (20,)), ('reset', (21,)), ('reset', (22,)), ('reset', (23,)), ('reset', (24,)), ('reset', (25,)), ('reset', (26,)), ('measure', (0,)), ('measure', (1,)), ('measure', (2,)), ('measure', (3,)), ('measure', (4,)), ('measure', (5,)), ('measure', (6,)), ('measure', (7,)), ('measure', (8,)), ('measure', (9,)), ('measure', (10,)), ('measure', (11,)), ('measure', (12,)), ('measure', (13,)), ('measure', (14,)), ('measure', (15,)), ('measure', (16,)), ('measure', (17,)), ('measure', (18,)), ('measure', (19,)), ('measure', (20,)), ('measure', (21,)), ('measure', (22,)), ('measure', (23,)), ('measure', (24,)), ('measure', (25,)), ('measure', (26,))]\n",
      "\n"
     ]
    }
   ],
   "source": [
    "import os\n",
    "from qiskit.providers.aer import QasmSimulator, AerSimulator\n",
    "from qiskit.providers.aer.noise import NoiseModel\n",
    "from qiskit.providers.fake_provider import FakeSydney, FakeMumbai\n",
    "from qiskit.utils import QuantumInstance\n",
    "\n",
    "device_backend = FakeMumbai()\n",
    "\n",
    "backend = Aer.get_backend('aer_simulator')\n",
    "counts1 = []\n",
    "values1 = []\n",
    "noise_model = None\n",
    "device = AerSimulator.from_backend(device_backend)\n",
    "coupling_map = device.configuration().coupling_map\n",
    "noise_model = NoiseModel.from_backend(device)\n",
    "basis_gates = noise_model.basis_gates\n",
    "\n",
    "print(noise_model)\n",
    "print()\n",
    "seed=1234\n",
    "algorithm_globals.random_seed = 1234\n",
    "qi = QuantumInstance(backend=backend, seed_simulator=seed, seed_transpiler=seed,\n",
    "                     coupling_map=coupling_map, noise_model=noise_model,shots=1024)"
   ]
  },
  {
   "cell_type": "code",
   "execution_count": 66,
   "metadata": {},
   "outputs": [
    {
     "name": "stdout",
     "output_type": "stream",
     "text": [
      "alpha = 1.0:\n",
      "objective function value: -0.2558995449738859\n",
      "variable values: x_0=1.0, x_1=0.0, x_2=1.0, x_3=0.0, x_4=1.0, x_5=0.0, x_6=1.0, x_7=0.0, x_8=0.0, x_9=1.0\n",
      "status: SUCCESS\n",
      "\n",
      "alpha = 0.5:\n",
      "objective function value: -0.2548438013733403\n",
      "variable values: x_0=1.0, x_1=0.0, x_2=1.0, x_3=0.0, x_4=1.0, x_5=0.0, x_6=0.0, x_7=0.0, x_8=1.0, x_9=1.0\n",
      "status: SUCCESS\n",
      "\n",
      "alpha = 0.25:\n",
      "objective function value: -0.2548438013733403\n",
      "variable values: x_0=1.0, x_1=0.0, x_2=1.0, x_3=0.0, x_4=1.0, x_5=0.0, x_6=0.0, x_7=0.0, x_8=1.0, x_9=1.0\n",
      "status: SUCCESS\n",
      "\n",
      "alpha = 0.3:\n",
      "objective function value: -0.2548438013733403\n",
      "variable values: x_0=1.0, x_1=0.0, x_2=1.0, x_3=0.0, x_4=1.0, x_5=0.0, x_6=0.0, x_7=0.0, x_8=1.0, x_9=1.0\n",
      "status: SUCCESS\n",
      "\n",
      "alpha = 0.4:\n",
      "objective function value: -0.2548438013733403\n",
      "variable values: x_0=1.0, x_1=0.0, x_2=1.0, x_3=0.0, x_4=1.0, x_5=0.0, x_6=0.0, x_7=0.0, x_8=1.0, x_9=1.0\n",
      "status: SUCCESS\n",
      "\n",
      "alpha = 0.45:\n",
      "objective function value: -0.2548438013733403\n",
      "variable values: x_0=1.0, x_1=0.0, x_2=1.0, x_3=0.0, x_4=1.0, x_5=0.0, x_6=0.0, x_7=0.0, x_8=1.0, x_9=1.0\n",
      "status: SUCCESS\n",
      "\n",
      "Wall time: 5min 54s\n"
     ]
    }
   ],
   "source": [
    "%%time\n",
    "# dictionaries to store optimization progress and results\n",
    "objectives = {alpha: [] for alpha in alphas}  # set of tested objective functions w.r.t. alpha\n",
    "results = {}  # results of minimum eigensolver w.r.t alpha\n",
    "\n",
    "# callback to store intermediate results\n",
    "def callback(i, params, obj, stddev, alpha):\n",
    "    # we translate the objective from the internal Ising representation\n",
    "    # to the original optimization problem\n",
    "    objectives[alpha] += [-(obj + offset)]\n",
    "\n",
    "\n",
    "# loop over all given alpha values\n",
    "for alpha in alphas:\n",
    "\n",
    "    # initialize CVaR_alpha objective\n",
    "    cvar_exp = CVaRExpectation(alpha, PauliExpectation())\n",
    "#     cvar_exp.compute_variance = lambda x: [0]  # to be fixed in PR #1373\n",
    "\n",
    "    # initialize VQE using CVaR\n",
    "    qaoa = QAOA(\n",
    "        initial_point = np.array([10.0, 10.0]),\n",
    "        expectation=cvar_exp,\n",
    "        optimizer=optimizer,\n",
    "        quantum_instance=qi,\n",
    "        callback=lambda i, params, obj, stddev: callback(i, params, obj, stddev, alpha),\n",
    "    )\n",
    "\n",
    "    # initialize optimization algorithm based on CVaR-VQE\n",
    "    opt_alg = MinimumEigenOptimizer(qaoa)\n",
    "\n",
    "    # solve problem\n",
    "    results[alpha] = opt_alg.solve(qp)\n",
    "\n",
    "    # print results\n",
    "    print(\"alpha = {}:\".format(alpha))\n",
    "    print(results[alpha].prettyprint())\n",
    "    print()"
   ]
  },
  {
   "cell_type": "code",
   "execution_count": 67,
   "metadata": {},
   "outputs": [
    {
     "data": {
      "image/png": "[encoded data removed]",
      "text/plain": [
       "<Figure size 720x360 with 1 Axes>"
      ]
     },
     "metadata": {
      "needs_background": "light"
     },
     "output_type": "display_data"
    }
   ],
   "source": [
    "### Note: With the above noise model, results seem slightly different from what we got with the qasm simulator ###\n",
    "\n",
    "# plot resulting history of objective values\n",
    "plt.figure(figsize=(10, 5))\n",
    "plt.plot([0, maxiter], [opt_result.fval, opt_result.fval], \"r--\", linewidth=2, label=\"optimum\")\n",
    "for alpha in alphas:\n",
    "    plt.plot(objectives[alpha], label=\"alpha = %.2f\" % alpha, linewidth=2)\n",
    "plt.legend(loc=\"lower right\", fontsize=14)\n",
    "plt.xlim(0, maxiter)\n",
    "plt.xticks(fontsize=14)\n",
    "plt.xlabel(\"iterations\", fontsize=14)\n",
    "plt.yticks(fontsize=14)\n",
    "plt.ylabel(\"objective value\", fontsize=14)\n",
    "plt.show()"
   ]
  },
  {
   "cell_type": "code",
   "execution_count": 68,
   "metadata": {},
   "outputs": [],
   "source": [
    "qc_basis = transpile(qaoa.ansatz, device_backend,optimization_level=3, basis_gates=['cx','u'])\n",
    "# qc_basis.draw()\n",
    "gate_dict=qc_basis.count_ops()"
   ]
  },
  {
   "cell_type": "code",
   "execution_count": 69,
   "metadata": {},
   "outputs": [
    {
     "data": {
      "text/plain": [
       "OrderedDict([('cx', 220), ('u', 99)])"
      ]
     },
     "execution_count": 69,
     "metadata": {},
     "output_type": "execute_result"
    }
   ],
   "source": [
    "gate_dict"
   ]
  },
  {
   "cell_type": "code",
   "execution_count": 70,
   "metadata": {},
   "outputs": [
    {
     "name": "stdout",
     "output_type": "stream",
     "text": [
      "The number of iterations for alpha 1.0: 34\n",
      "The number of iterations for alpha 0.5: 31\n",
      "The number of iterations for alpha 0.25: 31\n",
      "The number of iterations for alpha 0.3: 30\n",
      "The number of iterations for alpha 0.4: 32\n",
      "The number of iterations for alpha 0.45: 30\n"
     ]
    }
   ],
   "source": [
    "for alpha in alphas:\n",
    "    optim_evals=len(objectives[alpha])\n",
    "    print('The number of iterations for alpha '+str(alpha)+': '+ str(optim_evals))"
   ]
  },
  {
   "cell_type": "code",
   "execution_count": 71,
   "metadata": {},
   "outputs": [
    {
     "name": "stdout",
     "output_type": "stream",
     "text": [
      "Total cost for when alpha is 1.0: 938.5412000000001\n",
      "Total cost for when alpha is 0.5: 855.7508\n",
      "Total cost for when alpha is 0.25: 855.7508\n",
      "Total cost for when alpha is 0.3: 828.154\n",
      "Total cost for when alpha is 0.4: 883.3476\n",
      "Total cost for when alpha is 0.45: 828.154\n"
     ]
    }
   ],
   "source": [
    "task_price=0.25\n",
    "cost_cx = 0.0001\n",
    "cost_u = 0.00005\n",
    "price_per_shot = (cost_cx * gate_dict.get('cx')) + (cost_u * gate_dict.get('u'))\n",
    "shotsin=1024\n",
    "for alpha in alphas:\n",
    "    optim_evals=len(objectives[alpha])\n",
    "    print('Total cost for when alpha is '+str(alpha)+': '+ str((optim_evals*shotsin*price_per_shot)+task_price))\n",
    "# total_cost = (optim_evals*shotsin*price_per_shot)+task_price"
   ]
  },
  {
   "cell_type": "code",
   "execution_count": 72,
   "metadata": {},
   "outputs": [
    {
     "name": "stdout",
     "output_type": "stream",
     "text": [
      "The optimal value with alpha 1.0: -0.2558995449738859\n",
      "The optimal value with alpha 0.5: -0.2548438013733403\n",
      "The optimal value with alpha 0.25: -0.2548438013733403\n",
      "The optimal value with alpha 0.3: -0.2548438013733403\n",
      "The optimal value with alpha 0.4: -0.2548438013733403\n",
      "The optimal value with alpha 0.45: -0.2548438013733403\n"
     ]
    }
   ],
   "source": [
    "for alpha in alphas:\n",
    "    print('The optimal value with alpha '+str(alpha)+': '+str(results[alpha].fval))"
   ]
  },
  {
   "cell_type": "code",
   "execution_count": 73,
   "metadata": {},
   "outputs": [
    {
     "data": {
      "text/plain": [
       "175"
      ]
     },
     "execution_count": 73,
     "metadata": {},
     "output_type": "execute_result"
    }
   ],
   "source": [
    "### Circuit depth ###\n",
    "\n",
    "qc_basis.depth()"
   ]
  },
  {
   "cell_type": "code",
   "execution_count": 74,
   "metadata": {},
   "outputs": [
    {
     "name": "stdout",
     "output_type": "stream",
     "text": [
      "Optimizer time for alpha 1.0: 60.926618576049805\n",
      "Optimizer time for alpha 0.5: 55.75375723838806\n",
      "Optimizer time for alpha 0.25: 55.43870425224304\n",
      "Optimizer time for alpha 0.3: 57.74258303642273\n",
      "Optimizer time for alpha 0.4: 58.06706261634827\n",
      "Optimizer time for alpha 0.45: 56.36040925979614\n"
     ]
    }
   ],
   "source": [
    "for alpha in alphas:\n",
    "    x=results[alpha]\n",
    "    print('Optimizer time for alpha '+ str(alpha)+ ': '+ str(x.min_eigen_solver_result.optimizer_time))"
   ]
  },
  {
   "cell_type": "markdown",
   "metadata": {},
   "source": [
    "### new initial point ###"
   ]
  },
  {
   "cell_type": "code",
   "execution_count": 58,
   "metadata": {},
   "outputs": [
    {
     "name": "stdout",
     "output_type": "stream",
     "text": [
      "alpha = 1.0:\n",
      "objective function value: -0.2548438013733403\n",
      "variable values: x_0=1.0, x_1=0.0, x_2=1.0, x_3=0.0, x_4=1.0, x_5=0.0, x_6=0.0, x_7=0.0, x_8=1.0, x_9=1.0\n",
      "status: SUCCESS\n",
      "\n",
      "alpha = 0.5:\n",
      "objective function value: -0.2548438013733403\n",
      "variable values: x_0=1.0, x_1=0.0, x_2=1.0, x_3=0.0, x_4=1.0, x_5=0.0, x_6=0.0, x_7=0.0, x_8=1.0, x_9=1.0\n",
      "status: SUCCESS\n",
      "\n",
      "alpha = 0.25:\n",
      "objective function value: -0.2548438013733403\n",
      "variable values: x_0=1.0, x_1=0.0, x_2=1.0, x_3=0.0, x_4=1.0, x_5=0.0, x_6=0.0, x_7=0.0, x_8=1.0, x_9=1.0\n",
      "status: SUCCESS\n",
      "\n",
      "alpha = 0.3:\n",
      "objective function value: -0.2548438013733403\n",
      "variable values: x_0=1.0, x_1=0.0, x_2=1.0, x_3=0.0, x_4=1.0, x_5=0.0, x_6=0.0, x_7=0.0, x_8=1.0, x_9=1.0\n",
      "status: SUCCESS\n",
      "\n",
      "alpha = 0.4:\n",
      "objective function value: -0.2548438013733403\n",
      "variable values: x_0=1.0, x_1=0.0, x_2=1.0, x_3=0.0, x_4=1.0, x_5=0.0, x_6=0.0, x_7=0.0, x_8=1.0, x_9=1.0\n",
      "status: SUCCESS\n",
      "\n",
      "alpha = 0.45:\n",
      "objective function value: -0.2558995449738859\n",
      "variable values: x_0=1.0, x_1=0.0, x_2=1.0, x_3=0.0, x_4=1.0, x_5=0.0, x_6=1.0, x_7=0.0, x_8=0.0, x_9=1.0\n",
      "status: SUCCESS\n",
      "\n",
      "Wall time: 5min 14s\n"
     ]
    }
   ],
   "source": [
    "%%time\n",
    "# dictionaries to store optimization progress and results\n",
    "objectives = {alpha: [] for alpha in alphas}  # set of tested objective functions w.r.t. alpha\n",
    "results = {}  # results of minimum eigensolver w.r.t alpha\n",
    "\n",
    "# callback to store intermediate results\n",
    "def callback(i, params, obj, stddev, alpha):\n",
    "    # we translate the objective from the internal Ising representation\n",
    "    # to the original optimization problem\n",
    "    objectives[alpha] += [-(obj + offset)]\n",
    "\n",
    "\n",
    "# loop over all given alpha values\n",
    "for alpha in alphas:\n",
    "\n",
    "    # initialize CVaR_alpha objective\n",
    "    cvar_exp = CVaRExpectation(alpha, PauliExpectation())\n",
    "#     cvar_exp.compute_variance = lambda x: [0]  # to be fixed in PR #1373\n",
    "\n",
    "    # initialize VQE using CVaR\n",
    "    qaoa = QAOA(\n",
    "        initial_point = np.array([0.001, 0.001]),\n",
    "        expectation=cvar_exp,\n",
    "        optimizer=optimizer,\n",
    "        quantum_instance=qi,\n",
    "        callback=lambda i, params, obj, stddev: callback(i, params, obj, stddev, alpha),\n",
    "    )\n",
    "\n",
    "    # initialize optimization algorithm based on CVaR-VQE\n",
    "    opt_alg = MinimumEigenOptimizer(qaoa)\n",
    "\n",
    "    # solve problem\n",
    "    results[alpha] = opt_alg.solve(qp)\n",
    "\n",
    "    # print results\n",
    "    print(\"alpha = {}:\".format(alpha))\n",
    "    print(results[alpha].prettyprint())\n",
    "    print()"
   ]
  },
  {
   "cell_type": "code",
   "execution_count": 59,
   "metadata": {},
   "outputs": [
    {
     "data": {
      "image/png": "[encoded data removed]",
      "text/plain": [
       "<Figure size 720x360 with 1 Axes>"
      ]
     },
     "metadata": {
      "needs_background": "light"
     },
     "output_type": "display_data"
    }
   ],
   "source": [
    "### Note: With the above noise model, results seem slightly different from what we got with the qasm simulator ###\n",
    "\n",
    "# plot resulting history of objective values\n",
    "plt.figure(figsize=(10, 5))\n",
    "plt.plot([0, maxiter], [opt_result.fval, opt_result.fval], \"r--\", linewidth=2, label=\"optimum\")\n",
    "for alpha in alphas:\n",
    "    plt.plot(objectives[alpha], label=\"alpha = %.2f\" % alpha, linewidth=2)\n",
    "plt.legend(loc=\"lower right\", fontsize=14)\n",
    "plt.xlim(0, maxiter)\n",
    "plt.xticks(fontsize=14)\n",
    "plt.xlabel(\"iterations\", fontsize=14)\n",
    "plt.yticks(fontsize=14)\n",
    "plt.ylabel(\"objective value\", fontsize=14)\n",
    "plt.show()"
   ]
  },
  {
   "cell_type": "code",
   "execution_count": 60,
   "metadata": {},
   "outputs": [
    {
     "data": {
      "text/plain": [
       "OrderedDict([('cx', 204), ('u', 111)])"
      ]
     },
     "execution_count": 60,
     "metadata": {},
     "output_type": "execute_result"
    }
   ],
   "source": [
    "qc_basis = transpile(qaoa.ansatz, device_backend,optimization_level=3, basis_gates=['cx','u'])\n",
    "# qc_basis.draw()\n",
    "gate_dict=qc_basis.count_ops()\n",
    "\n",
    "gate_dict"
   ]
  },
  {
   "cell_type": "code",
   "execution_count": 61,
   "metadata": {},
   "outputs": [
    {
     "name": "stdout",
     "output_type": "stream",
     "text": [
      "The number of iterations for alpha 1.0: 27\n",
      "The number of iterations for alpha 0.5: 26\n",
      "The number of iterations for alpha 0.25: 28\n",
      "The number of iterations for alpha 0.3: 27\n",
      "The number of iterations for alpha 0.4: 29\n",
      "The number of iterations for alpha 0.45: 31\n"
     ]
    }
   ],
   "source": [
    "for alpha in alphas:\n",
    "    optim_evals=len(objectives[alpha])\n",
    "    print('The number of iterations for alpha '+str(alpha)+': '+ str(optim_evals))"
   ]
  },
  {
   "cell_type": "code",
   "execution_count": 62,
   "metadata": {},
   "outputs": [
    {
     "name": "stdout",
     "output_type": "stream",
     "text": [
      "Total cost for when alpha is 1.0: 717.7156\n",
      "Total cost for when alpha is 0.5: 691.1428000000001\n",
      "Total cost for when alpha is 0.25: 744.2884\n",
      "Total cost for when alpha is 0.3: 717.7156\n",
      "Total cost for when alpha is 0.4: 770.8612\n",
      "Total cost for when alpha is 0.45: 824.0068\n"
     ]
    }
   ],
   "source": [
    "task_price=0.25\n",
    "cost_cx = 0.0001\n",
    "cost_u = 0.00005\n",
    "price_per_shot = (cost_cx * gate_dict.get('cx')) + (cost_u * gate_dict.get('u'))\n",
    "shotsin=1024\n",
    "for alpha in alphas:\n",
    "    optim_evals=len(objectives[alpha])\n",
    "    print('Total cost for when alpha is '+str(alpha)+': '+ str((optim_evals*shotsin*price_per_shot)+task_price))\n",
    "# total_cost = (optim_evals*shotsin*price_per_shot)+task_price"
   ]
  },
  {
   "cell_type": "code",
   "execution_count": 63,
   "metadata": {},
   "outputs": [
    {
     "name": "stdout",
     "output_type": "stream",
     "text": [
      "The optimal value with alpha 1.0: -0.2548438013733403\n",
      "The optimal value with alpha 0.5: -0.2548438013733403\n",
      "The optimal value with alpha 0.25: -0.2548438013733403\n",
      "The optimal value with alpha 0.3: -0.2548438013733403\n",
      "The optimal value with alpha 0.4: -0.2548438013733403\n",
      "The optimal value with alpha 0.45: -0.2558995449738859\n"
     ]
    }
   ],
   "source": [
    "for alpha in alphas:\n",
    "    print('The optimal value with alpha '+str(alpha)+': '+str(results[alpha].fval))"
   ]
  },
  {
   "cell_type": "code",
   "execution_count": 64,
   "metadata": {},
   "outputs": [
    {
     "data": {
      "text/plain": [
       "158"
      ]
     },
     "execution_count": 64,
     "metadata": {},
     "output_type": "execute_result"
    }
   ],
   "source": [
    "### Circuit depth ###\n",
    "\n",
    "qc_basis.depth()"
   ]
  },
  {
   "cell_type": "code",
   "execution_count": 65,
   "metadata": {},
   "outputs": [
    {
     "name": "stdout",
     "output_type": "stream",
     "text": [
      "Optimizer time for alpha 1.0: 49.086315631866455\n",
      "Optimizer time for alpha 0.5: 47.8271861076355\n",
      "Optimizer time for alpha 0.25: 50.278504610061646\n",
      "Optimizer time for alpha 0.3: 48.86986231803894\n",
      "Optimizer time for alpha 0.4: 52.74457669258118\n",
      "Optimizer time for alpha 0.45: 56.13037109375\n"
     ]
    }
   ],
   "source": [
    "for alpha in alphas:\n",
    "    x=results[alpha]\n",
    "    print('Optimizer time for alpha '+ str(alpha)+ ': '+ str(x.min_eigen_solver_result.optimizer_time))"
   ]
  },
  {
   "cell_type": "markdown",
   "metadata": {},
   "source": [
    "### third initial point ###"
   ]
  },
  {
   "cell_type": "code",
   "execution_count": 75,
   "metadata": {},
   "outputs": [
    {
     "name": "stdout",
     "output_type": "stream",
     "text": [
      "alpha = 1.0:\n",
      "objective function value: -0.2548438013733403\n",
      "variable values: x_0=1.0, x_1=0.0, x_2=1.0, x_3=0.0, x_4=1.0, x_5=0.0, x_6=0.0, x_7=0.0, x_8=1.0, x_9=1.0\n",
      "status: SUCCESS\n",
      "\n",
      "alpha = 0.5:\n",
      "objective function value: -0.2548438013733403\n",
      "variable values: x_0=1.0, x_1=0.0, x_2=1.0, x_3=0.0, x_4=1.0, x_5=0.0, x_6=0.0, x_7=0.0, x_8=1.0, x_9=1.0\n",
      "status: SUCCESS\n",
      "\n",
      "alpha = 0.25:\n",
      "objective function value: -0.2548438013733403\n",
      "variable values: x_0=1.0, x_1=0.0, x_2=1.0, x_3=0.0, x_4=1.0, x_5=0.0, x_6=0.0, x_7=0.0, x_8=1.0, x_9=1.0\n",
      "status: SUCCESS\n",
      "\n",
      "alpha = 0.3:\n",
      "objective function value: -0.2548438013733403\n",
      "variable values: x_0=1.0, x_1=0.0, x_2=1.0, x_3=0.0, x_4=1.0, x_5=0.0, x_6=0.0, x_7=0.0, x_8=1.0, x_9=1.0\n",
      "status: SUCCESS\n",
      "\n",
      "alpha = 0.4:\n",
      "objective function value: -0.2548438013733403\n",
      "variable values: x_0=1.0, x_1=0.0, x_2=1.0, x_3=0.0, x_4=1.0, x_5=0.0, x_6=0.0, x_7=0.0, x_8=1.0, x_9=1.0\n",
      "status: SUCCESS\n",
      "\n",
      "alpha = 0.45:\n",
      "objective function value: -0.25553763310614386\n",
      "variable values: x_0=1.0, x_1=0.0, x_2=1.0, x_3=0.0, x_4=1.0, x_5=1.0, x_6=0.0, x_7=0.0, x_8=0.0, x_9=1.0\n",
      "status: SUCCESS\n",
      "\n",
      "Wall time: 6min 1s\n"
     ]
    }
   ],
   "source": [
    "%%time\n",
    "# dictionaries to store optimization progress and results\n",
    "objectives = {alpha: [] for alpha in alphas}  # set of tested objective functions w.r.t. alpha\n",
    "results = {}  # results of minimum eigensolver w.r.t alpha\n",
    "\n",
    "# callback to store intermediate results\n",
    "def callback(i, params, obj, stddev, alpha):\n",
    "    # we translate the objective from the internal Ising representation\n",
    "    # to the original optimization problem\n",
    "    objectives[alpha] += [-(obj + offset)]\n",
    "\n",
    "\n",
    "# loop over all given alpha values\n",
    "for alpha in alphas:\n",
    "\n",
    "    # initialize CVaR_alpha objective\n",
    "    cvar_exp = CVaRExpectation(alpha, PauliExpectation())\n",
    "#     cvar_exp.compute_variance = lambda x: [0]  # to be fixed in PR #1373\n",
    "\n",
    "    # initialize VQE using CVaR\n",
    "    qaoa = QAOA(\n",
    "        initial_point = np.array([1.0, 2.0]),\n",
    "        expectation=cvar_exp,\n",
    "        optimizer=optimizer,\n",
    "        quantum_instance=qi,\n",
    "        callback=lambda i, params, obj, stddev: callback(i, params, obj, stddev, alpha),\n",
    "    )\n",
    "\n",
    "    # initialize optimization algorithm based on CVaR-VQE\n",
    "    opt_alg = MinimumEigenOptimizer(qaoa)\n",
    "\n",
    "    # solve problem\n",
    "    results[alpha] = opt_alg.solve(qp)\n",
    "\n",
    "    # print results\n",
    "    print(\"alpha = {}:\".format(alpha))\n",
    "    print(results[alpha].prettyprint())\n",
    "    print()\n",
    "\n",
    "### Note: With the above noise model, results seem slightly different from what we got with the qasm simulator ###"
   ]
  },
  {
   "cell_type": "code",
   "execution_count": 76,
   "metadata": {},
   "outputs": [
    {
     "data": {
      "image/png": "[encoded data removed]",
      "text/plain": [
       "<Figure size 720x360 with 1 Axes>"
      ]
     },
     "metadata": {
      "needs_background": "light"
     },
     "output_type": "display_data"
    }
   ],
   "source": [
    "# plot resulting history of objective values\n",
    "plt.figure(figsize=(10, 5))\n",
    "plt.plot([0, maxiter], [opt_result.fval, opt_result.fval], \"r--\", linewidth=2, label=\"optimum\")\n",
    "for alpha in alphas:\n",
    "    plt.plot(objectives[alpha], label=\"alpha = %.2f\" % alpha, linewidth=2)\n",
    "plt.legend(loc=\"lower right\", fontsize=14)\n",
    "plt.xlim(0, maxiter)\n",
    "plt.xticks(fontsize=14)\n",
    "plt.xlabel(\"iterations\", fontsize=14)\n",
    "plt.yticks(fontsize=14)\n",
    "plt.ylabel(\"objective value\", fontsize=14)\n",
    "plt.show()"
   ]
  },
  {
   "cell_type": "code",
   "execution_count": 77,
   "metadata": {},
   "outputs": [
    {
     "data": {
      "text/plain": [
       "OrderedDict([('cx', 182), ('u', 111)])"
      ]
     },
     "execution_count": 77,
     "metadata": {},
     "output_type": "execute_result"
    }
   ],
   "source": [
    "qc_basis = transpile(qaoa.ansatz, device_backend,optimization_level=3, basis_gates=['cx','u'])\n",
    "# qc_basis.draw()\n",
    "gate_dict=qc_basis.count_ops()\n",
    "\n",
    "gate_dict"
   ]
  },
  {
   "cell_type": "code",
   "execution_count": 78,
   "metadata": {},
   "outputs": [
    {
     "name": "stdout",
     "output_type": "stream",
     "text": [
      "The number of iterations for alpha 1.0: 36\n",
      "The number of iterations for alpha 0.5: 31\n",
      "The number of iterations for alpha 0.25: 29\n",
      "The number of iterations for alpha 0.3: 33\n",
      "The number of iterations for alpha 0.4: 31\n",
      "The number of iterations for alpha 0.45: 37\n"
     ]
    }
   ],
   "source": [
    "for alpha in alphas:\n",
    "    optim_evals=len(objectives[alpha])\n",
    "    print('The number of iterations for alpha '+str(alpha)+': '+ str(optim_evals))"
   ]
  },
  {
   "cell_type": "code",
   "execution_count": 79,
   "metadata": {},
   "outputs": [
    {
     "name": "stdout",
     "output_type": "stream",
     "text": [
      "Total cost for when alpha is 1.0: 875.77\n",
      "Total cost for when alpha is 0.5: 754.17\n",
      "Total cost for when alpha is 0.25: 705.53\n",
      "Total cost for when alpha is 0.3: 802.8100000000001\n",
      "Total cost for when alpha is 0.4: 754.17\n",
      "Total cost for when alpha is 0.45: 900.09\n"
     ]
    }
   ],
   "source": [
    "task_price=0.25\n",
    "cost_cx = 0.0001\n",
    "cost_u = 0.00005\n",
    "price_per_shot = (cost_cx * gate_dict.get('cx')) + (cost_u * gate_dict.get('u'))\n",
    "shotsin=1024\n",
    "for alpha in alphas:\n",
    "    optim_evals=len(objectives[alpha])\n",
    "    print('Total cost for when alpha is '+str(alpha)+': '+ str((optim_evals*shotsin*price_per_shot)+task_price))\n",
    "# total_cost = (optim_evals*shotsin*price_per_shot)+task_price"
   ]
  },
  {
   "cell_type": "code",
   "execution_count": 80,
   "metadata": {},
   "outputs": [
    {
     "name": "stdout",
     "output_type": "stream",
     "text": [
      "The optimal value with alpha 1.0: -0.2548438013733403\n",
      "The optimal value with alpha 0.5: -0.2548438013733403\n",
      "The optimal value with alpha 0.25: -0.2548438013733403\n",
      "The optimal value with alpha 0.3: -0.2548438013733403\n",
      "The optimal value with alpha 0.4: -0.2548438013733403\n",
      "The optimal value with alpha 0.45: -0.25553763310614386\n"
     ]
    }
   ],
   "source": [
    "for alpha in alphas:\n",
    "    print('The optimal value with alpha '+str(alpha)+': '+str(results[alpha].fval))"
   ]
  },
  {
   "cell_type": "code",
   "execution_count": 81,
   "metadata": {},
   "outputs": [
    {
     "data": {
      "text/plain": [
       "141"
      ]
     },
     "execution_count": 81,
     "metadata": {},
     "output_type": "execute_result"
    }
   ],
   "source": [
    "### Circuit depth ###\n",
    "\n",
    "qc_basis.depth()"
   ]
  },
  {
   "cell_type": "code",
   "execution_count": 82,
   "metadata": {},
   "outputs": [
    {
     "name": "stdout",
     "output_type": "stream",
     "text": [
      "Optimizer time for alpha 1.0: 68.31823396682739\n",
      "Optimizer time for alpha 0.5: 54.18085217475891\n",
      "Optimizer time for alpha 0.25: 51.123921155929565\n",
      "Optimizer time for alpha 0.3: 59.61173105239868\n",
      "Optimizer time for alpha 0.4: 52.87729573249817\n",
      "Optimizer time for alpha 0.45: 65.43023180961609\n"
     ]
    }
   ],
   "source": [
    "for alpha in alphas:\n",
    "    x=results[alpha]\n",
    "    print('Optimizer time for alpha '+ str(alpha)+ ': '+ str(x.min_eigen_solver_result.optimizer_time))"
   ]
  },
  {
   "cell_type": "markdown",
   "metadata": {},
   "source": [
    "### for our use case, choosing smaller parameters values in the initial point gave best results in terms of cost ###"
   ]
  }
 ],
 "metadata": {
  "kernelspec": {
   "display_name": "Python 3",
   "language": "python",
   "name": "python3"
  },
  "language_info": {
   "codemirror_mode": {
    "name": "ipython",
    "version": 3
   },
   "file_extension": ".py",
   "mimetype": "text/x-python",
   "name": "python",
   "nbconvert_exporter": "python",
   "pygments_lexer": "ipython3",
   "version": "3.8.5"
  }
 },
 "nbformat": 4,
 "nbformat_minor": 4
}
